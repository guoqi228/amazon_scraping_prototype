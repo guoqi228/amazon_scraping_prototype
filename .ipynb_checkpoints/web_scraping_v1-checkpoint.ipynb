{
 "cells": [
  {
   "cell_type": "code",
   "execution_count": null,
   "metadata": {},
   "outputs": [],
   "source": [
    "# source: https://www.scrapehero.com/how-to-scrape-amazon-product-reviews/"
   ]
  },
  {
   "cell_type": "code",
   "execution_count": 1,
   "metadata": {},
   "outputs": [],
   "source": [
    "from lxml import html  "
   ]
  },
  {
   "cell_type": "code",
   "execution_count": 2,
   "metadata": {},
   "outputs": [],
   "source": [
    "import requests"
   ]
  },
  {
   "cell_type": "code",
   "execution_count": 3,
   "metadata": {},
   "outputs": [],
   "source": [
    "from dateutil import parser as dateparser"
   ]
  },
  {
   "cell_type": "code",
   "execution_count": 4,
   "metadata": {},
   "outputs": [],
   "source": [
    "import json"
   ]
  },
  {
   "cell_type": "code",
   "execution_count": 5,
   "metadata": {},
   "outputs": [],
   "source": [
    "import re"
   ]
  },
  {
   "cell_type": "code",
   "execution_count": 6,
   "metadata": {},
   "outputs": [],
   "source": [
    "from time import sleep"
   ]
  },
  {
   "cell_type": "code",
   "execution_count": 7,
   "metadata": {},
   "outputs": [],
   "source": [
    "def ParseReviews(asin):\n",
    "\t# for i in range(5):\n",
    "\t# \ttry:\n",
    "\t#This script has only been tested with Amazon.com\n",
    "\tamazon_url  = 'http://www.amazon.com/dp/'+asin\n",
    "\t# Add some recent user agent to prevent amazon from blocking the request \n",
    "\t# Find some chrome user agent strings  here https://udger.com/resources/ua-list/browser-detail?browser=Chrome\n",
    "\theaders = {'User-Agent': 'Mozilla/5.0 (X11; Linux x86_64) AppleWebKit/537.36 (KHTML, like Gecko) Chrome/42.0.2311.90 Safari/537.36'}\n",
    "\tpage = requests.get(amazon_url,headers = headers,verify=False)\n",
    "\tpage_response = page.text\n",
    "\n",
    "\tparser = html.fromstring(page_response)\n",
    "\tXPATH_AGGREGATE = '//span[@id=\"acrCustomerReviewText\"]'\n",
    "\tXPATH_REVIEW_SECTION_1 = '//div[contains(@id,\"reviews-summary\")]'\n",
    "\tXPATH_REVIEW_SECTION_2 = '//div[@data-hook=\"review\"]'\n",
    "\n",
    "\tXPATH_AGGREGATE_RATING = '//table[@id=\"histogramTable\"]//tr'\n",
    "\tXPATH_PRODUCT_NAME = '//h1//span[@id=\"productTitle\"]//text()'\n",
    "\tXPATH_PRODUCT_PRICE  = '//span[@id=\"priceblock_ourprice\"]/text()'\n",
    "\t\n",
    "\traw_product_price = parser.xpath(XPATH_PRODUCT_PRICE)\n",
    "\tproduct_price = ''.join(raw_product_price).replace(',','')\n",
    "\n",
    "\traw_product_name = parser.xpath(XPATH_PRODUCT_NAME)\n",
    "\tproduct_name = ''.join(raw_product_name).strip()\n",
    "\ttotal_ratings  = parser.xpath(XPATH_AGGREGATE_RATING)\n",
    "\treviews = parser.xpath(XPATH_REVIEW_SECTION_1)\n",
    "\tif not reviews:\n",
    "\t\treviews = parser.xpath(XPATH_REVIEW_SECTION_2)\n",
    "\tratings_dict = {}\n",
    "\treviews_list = []\n",
    "\t\n",
    "\tif not reviews:\n",
    "\t\traise ValueError('unable to find reviews in page')\n",
    "\n",
    "\t#grabing the rating  section in product page\n",
    "\tfor ratings in total_ratings:\n",
    "\t\textracted_rating = ratings.xpath('./td//a//text()')\n",
    "\t\tif extracted_rating:\n",
    "\t\t\trating_key = extracted_rating[0] \n",
    "\t\t\traw_raing_value = extracted_rating[1]\n",
    "\t\t\trating_value = raw_raing_value\n",
    "\t\t\tif rating_key:\n",
    "\t\t\t\tratings_dict.update({rating_key:rating_value})\n",
    "\t\n",
    "\t#Parsing individual reviews\n",
    "\tfor review in reviews:\n",
    "\t\tXPATH_RATING  = './/i[@data-hook=\"review-star-rating\"]//text()'\n",
    "\t\tXPATH_REVIEW_HEADER = './/a[@data-hook=\"review-title\"]//text()'\n",
    "\t\tXPATH_REVIEW_POSTED_DATE = './/span[@data-hook=\"review-date\"]//text()'\n",
    "\t\tXPATH_REVIEW_TEXT_1 = './/div[@data-hook=\"review-collapsed\"]//text()'\n",
    "\t\tXPATH_REVIEW_TEXT_2 = './/div//span[@data-action=\"columnbalancing-showfullreview\"]/@data-columnbalancing-showfullreview'\n",
    "\t\tXPATH_REVIEW_COMMENTS = './/span[@data-hook=\"review-comment\"]//text()'\n",
    "\t\tXPATH_AUTHOR  = './/span[contains(@class,\"profile-name\")]//text()'\n",
    "\t\tXPATH_REVIEW_TEXT_3  = './/div[contains(@id,\"dpReviews\")]/div/text()'\n",
    "\t\t\n",
    "\t\traw_review_author = review.xpath(XPATH_AUTHOR)\n",
    "\t\traw_review_rating = review.xpath(XPATH_RATING)\n",
    "\t\traw_review_header = review.xpath(XPATH_REVIEW_HEADER)\n",
    "\t\traw_review_posted_date = review.xpath(XPATH_REVIEW_POSTED_DATE)\n",
    "\t\traw_review_text1 = review.xpath(XPATH_REVIEW_TEXT_1)\n",
    "\t\traw_review_text2 = review.xpath(XPATH_REVIEW_TEXT_2)\n",
    "\t\traw_review_text3 = review.xpath(XPATH_REVIEW_TEXT_3)\n",
    "\n",
    "\t\t#cleaning data\n",
    "\t\tauthor = ' '.join(' '.join(raw_review_author).split())\n",
    "\t\treview_rating = ''.join(raw_review_rating).replace('out of 5 stars','')\n",
    "\t\treview_header = ' '.join(' '.join(raw_review_header).split())\n",
    "\n",
    "\t\ttry:\n",
    "\t\t\treview_posted_date = dateparser.parse(''.join(raw_review_posted_date)).strftime('%d %b %Y')\n",
    "\t\texcept:\n",
    "\t\t\treview_posted_date = None\n",
    "\t\treview_text = ' '.join(' '.join(raw_review_text1).split())\n",
    "\n",
    "\t\t#grabbing hidden comments if present\n",
    "\t\tif raw_review_text2:\n",
    "\t\t\tjson_loaded_review_data = json.loads(raw_review_text2[0])\n",
    "\t\t\tjson_loaded_review_data_text = json_loaded_review_data['rest']\n",
    "\t\t\tcleaned_json_loaded_review_data_text = re.sub('<.*?>','',json_loaded_review_data_text)\n",
    "\t\t\tfull_review_text = review_text+cleaned_json_loaded_review_data_text\n",
    "\t\telse:\n",
    "\t\t\tfull_review_text = review_text\n",
    "\t\tif not raw_review_text1:\n",
    "\t\t\tfull_review_text = ' '.join(' '.join(raw_review_text3).split())\n",
    "\n",
    "\t\traw_review_comments = review.xpath(XPATH_REVIEW_COMMENTS)\n",
    "\t\treview_comments = ''.join(raw_review_comments)\n",
    "\t\treview_comments = re.sub('[A-Za-z]','',review_comments).strip()\n",
    "\t\treview_dict = {\n",
    "\t\t\t\t\t\t\t'review_comment_count':review_comments,\n",
    "\t\t\t\t\t\t\t'review_text':full_review_text,\n",
    "\t\t\t\t\t\t\t'review_posted_date':review_posted_date,\n",
    "\t\t\t\t\t\t\t'review_header':review_header,\n",
    "\t\t\t\t\t\t\t'review_rating':review_rating,\n",
    "\t\t\t\t\t\t\t'review_author':author\n",
    "\n",
    "\t\t\t\t\t\t}\n",
    "\t\treviews_list.append(review_dict)\n",
    "\n",
    "\tdata = {\n",
    "\t\t\t\t'ratings':ratings_dict,\n",
    "\t\t\t\t'reviews':reviews_list,\n",
    "\t\t\t\t'url':amazon_url,\n",
    "\t\t\t\t'price':product_price,\n",
    "\t\t\t\t'name':product_name\n",
    "\t\t\t}\n",
    "\treturn data\n",
    "\t# \texcept ValueError:\n",
    "\t# \t\tprint(\"Retrying to get the correct response\")\n",
    "\n",
    "\t# return {\"error\":\"failed to process the page\",\"asin\":asin}\n",
    "\t\t\t\n",
    "def ReadAsin():\n",
    "\t#Add your own ASINs here \n",
    "\tAsinList = ['B01ETPUQ6E','B017HW9DEW']\n",
    "\textracted_data = []\n",
    "\tfor asin in AsinList:\n",
    "\t\tprint(\"Downloading and processing page http://www.amazon.com/dp/\"+asin)\n",
    "\t\textracted_data.append(ParseReviews(asin))\n",
    "\t\tsleep(5)\n",
    "\tf = open('data.json','w')\n",
    "\tjson.dump(extracted_data,f,indent=4)"
   ]
  },
  {
   "cell_type": "code",
   "execution_count": 8,
   "metadata": {},
   "outputs": [
    {
     "name": "stdout",
     "output_type": "stream",
     "text": [
      "Downloading and processing page http://www.amazon.com/dp/B01ETPUQ6E\n"
     ]
    },
    {
     "name": "stderr",
     "output_type": "stream",
     "text": [
      "C:\\ProgramData\\Anaconda3\\envs\\web_scraping_v1\\lib\\site-packages\\urllib3\\connectionpool.py:857: InsecureRequestWarning: Unverified HTTPS request is being made. Adding certificate verification is strongly advised. See: https://urllib3.readthedocs.io/en/latest/advanced-usage.html#ssl-warnings\n",
      "  InsecureRequestWarning)\n"
     ]
    },
    {
     "name": "stdout",
     "output_type": "stream",
     "text": [
      "Downloading and processing page http://www.amazon.com/dp/B017HW9DEW\n"
     ]
    },
    {
     "name": "stderr",
     "output_type": "stream",
     "text": [
      "C:\\ProgramData\\Anaconda3\\envs\\web_scraping_v1\\lib\\site-packages\\urllib3\\connectionpool.py:857: InsecureRequestWarning: Unverified HTTPS request is being made. Adding certificate verification is strongly advised. See: https://urllib3.readthedocs.io/en/latest/advanced-usage.html#ssl-warnings\n",
      "  InsecureRequestWarning)\n"
     ]
    }
   ],
   "source": [
    "ReadAsin()"
   ]
  },
  {
   "cell_type": "code",
   "execution_count": null,
   "metadata": {},
   "outputs": [],
   "source": []
  }
 ],
 "metadata": {
  "kernelspec": {
   "display_name": "web_scraping_v1",
   "language": "python",
   "name": "web_scraping_v1"
  },
  "language_info": {
   "codemirror_mode": {
    "name": "ipython",
    "version": 3
   },
   "file_extension": ".py",
   "mimetype": "text/x-python",
   "name": "python",
   "nbconvert_exporter": "python",
   "pygments_lexer": "ipython3",
   "version": "3.6.6"
  }
 },
 "nbformat": 4,
 "nbformat_minor": 2
}
