{
 "cells": [
  {
   "cell_type": "code",
   "execution_count": 1,
   "metadata": {},
   "outputs": [],
   "source": [
    "from lxml import html  \n",
    "import requests\n",
    "import numpy as np\n",
    "import pandas as pd\n",
    "import os\n",
    "import matplotlib.pyplot as plt\n",
    "%matplotlib inline\n",
    "import pygal\n",
    "from IPython.display import SVG, HTML\n",
    "from pygal.style import DarkSolarizedStyle\n",
    "from pygal import Config\n",
    "import datetime\n",
    "import math\n",
    "from sklearn.linear_model import Ridge\n",
    "from sklearn.preprocessing import PolynomialFeatures\n",
    "from sklearn.pipeline import make_pipeline\n",
    "from sklearn import preprocessing\n",
    "from sklearn.metrics import mean_squared_error"
   ]
  },
  {
   "cell_type": "code",
   "execution_count": 2,
   "metadata": {},
   "outputs": [],
   "source": [
    "def date_to_mjd(year,month,day):\n",
    "\n",
    "    if month == 1 or month == 2:\n",
    "        yearp = year - 1\n",
    "        monthp = month + 12\n",
    "    else:\n",
    "        yearp = year\n",
    "        monthp = month\n",
    "    # this checks where we are in relation to October 15, 1582, the beginning\n",
    "    # of the Gregorian calendar.\n",
    "    if ((year < 1582) or\n",
    "        (year == 1582 and month < 10) or\n",
    "        (year == 1582 and month == 10 and day < 15)):\n",
    "        # before start of Gregorian calendar\n",
    "        B = 0\n",
    "    else:\n",
    "        # after start of Gregorian calendar\n",
    "        A = math.trunc(yearp / 100.)\n",
    "        B = 2 - A + math.trunc(A / 4.)\n",
    "    if yearp < 0:\n",
    "        C = math.trunc((365.25 * yearp) - 0.75)\n",
    "    else:\n",
    "        C = math.trunc(365.25 * yearp)\n",
    "    D = math.trunc(30.6001 * (monthp + 1))\n",
    "    jd = B + C + D + day + 1720994.5\n",
    "    return jd - 2400000.5"
   ]
  },
  {
   "cell_type": "code",
   "execution_count": 3,
   "metadata": {},
   "outputs": [],
   "source": [
    "def get_total_pages(asin):\n",
    "    \n",
    "    headers = {\n",
    "        'User-Agent': 'Mozilla/5.0 (Windows NT 10.0; Win64; x64) AppleWebKit/537.36 (KHTML, like Gecko) Chrome/67.0.3396.62 Safari/537.36'}\n",
    "    XPATH_REVIEW_PAGENUM = './/li[@class=\"page-button\"]//text()'\n",
    "    XPATH_TOTAL_REVIEWS = './/span[@data-hook=\"total-review-count\"]//text()'\n",
    "    amazon_url = 'https://www.amazon.com/product-reviews/' + asin + '/ref=cm_cr_arp_d_paging_btm_1?pageNumber=1&sortBy=recent'\n",
    "            # Add some recent user agent to prevent amazon from blocking the request \n",
    "            # Find some chrome user agent strings  here https://udger.com/resources/ua-list/browser-detail?browser=Chrome\n",
    "    page = requests.get(amazon_url, headers=headers)\n",
    "    page_response = page.text.encode('utf-8')\n",
    "    parser = html.fromstring(page_response)\n",
    "    pages = parser.xpath(XPATH_REVIEW_PAGENUM)\n",
    "    totalreviews = parser.xpath(XPATH_TOTAL_REVIEWS)\n",
    "    totalreviews = int(totalreviews[0].replace(',','')) \n",
    "    maxpage = int(pages[-1].replace(',','')) \n",
    "    print('Total pages of reviews: {}'.format(maxpage))\n",
    "    print('Total number of reviews: {}'.format(totalreviews))\n",
    "    return maxpage"
   ]
  },
  {
   "cell_type": "code",
   "execution_count": null,
   "metadata": {},
   "outputs": [],
   "source": []
  },
  {
   "cell_type": "code",
   "execution_count": 4,
   "metadata": {},
   "outputs": [],
   "source": [
    "def scrape_reviews(asins):\n",
    "    ratings_dict = {}\n",
    "    reviews_list = []\n",
    "    reviews_df = pd.DataFrame()\n",
    "\n",
    "    headers = {\n",
    "        'User-Agent': 'Mozilla/5.0 (Windows NT 10.0; Win64; x64) AppleWebKit/537.36 (KHTML, like Gecko) Chrome/67.0.3396.62 Safari/537.36'}\n",
    "    XPATH_REVIEWS = '//div[@data-hook=\"review\"]'\n",
    "    XPATH_REVIEW_RATING = './/i[@data-hook=\"review-star-rating\"]//text()'\n",
    "    XPATH_REVIEW_HEADER = './/a[@data-hook=\"review-title\"]//text()'\n",
    "    XPATH_REVIEW_AUTHOR = './/a[@data-hook=\"review-author\"]//text()'\n",
    "    XPATH_REVIEW_DATE = './/span[@data-hook=\"review-date\"]//text()'\n",
    "    XPATH_REVIEW_BODY = './/span[@data-hook=\"review-body\"]//text()'\n",
    "    XPATH_REVIEW_HELPFUL = './/span[@data-hook=\"helpful-vote-statement\"]//text()'\n",
    "    XPATH_REVIEW_PAGENUM = './/li[@class=\"page-button\"]//text()'\n",
    "\n",
    "    p_num = 1\n",
    "    for asin in asins:\n",
    "        totalpages = get_total_pages(asin)\n",
    "        while True:\n",
    "            print('Scraping review page nr. {}'.format(p_num))\n",
    "            amazon_url = 'https://www.amazon.com/product-reviews/' + asin + '/ref=cm_cr_arp_d_paging_btm_' +str(p_num) + '?pageNumber=' + str(p_num) + '&sortBy=recent'\n",
    "            # Add some recent user agent to prevent amazon from blocking the request \n",
    "            # Find some chrome user agent strings  here https://udger.com/resources/ua-list/browser-detail?browser=Chrome\n",
    "            page = requests.get(amazon_url, headers=headers)\n",
    "            page_response = page.text.encode('utf-8')\n",
    "            parser = html.fromstring(page_response)\n",
    "            reviews = parser.xpath(XPATH_REVIEWS)\n",
    "            \n",
    "            if not len(reviews) > 0:\n",
    "                break\n",
    "            # Parsing individual reviews\n",
    "            for review in reviews:\n",
    "                raw_review_author = review.xpath(XPATH_REVIEW_AUTHOR)\n",
    "                raw_review_rating = review.xpath(XPATH_REVIEW_RATING)\n",
    "                raw_review_header = review.xpath(XPATH_REVIEW_HEADER)\n",
    "                raw_review_date = review.xpath(XPATH_REVIEW_DATE)\n",
    "                raw_review_body = review.xpath(XPATH_REVIEW_BODY)\n",
    "                raw_review_helpful = review.xpath(XPATH_REVIEW_HELPFUL)\n",
    "\n",
    "                review_dict = {\n",
    "                    'review_text': raw_review_body,\n",
    "                    'review_posted_date': raw_review_date,\n",
    "                    'review_header': raw_review_header,\n",
    "                    'review_rating': raw_review_rating,\n",
    "                    'review_helpful': raw_review_helpful,\n",
    "                    'review_author': raw_review_author\n",
    "                }\n",
    "                reviews_df = reviews_df.append(review_dict, ignore_index=True)\n",
    "            p_num += 1\n",
    "            if p_num > totalpages:\n",
    "                break\n",
    "    return reviews_df"
   ]
  },
  {
   "cell_type": "code",
   "execution_count": 5,
   "metadata": {},
   "outputs": [
    {
     "name": "stdout",
     "output_type": "stream",
     "text": [
      "Loading reviews from disk\n",
      "Loaded 346 reviews\n"
     ]
    }
   ],
   "source": [
    "filename = 'cellphone_1_reviews.pickle'\n",
    "asins = ['B06Y6J869C']\n",
    "\n",
    "if os.path.isfile(filename):\n",
    "    print('Loading reviews from disk') \n",
    "    reviews_df = pd.read_pickle(filename)\n",
    "    print('Loaded {} reviews'.format(len(reviews_df)))\n",
    "else:\n",
    "    print('Scraping reviews for item...') \n",
    "    reviews_df = scrape_reviews(asins)\n",
    "    print('Scraped {} reviews'.format(len(reviews_df))) \n",
    "    print('Saving reviews to disk') \n",
    "    reviews_df.to_pickle(filename)"
   ]
  },
  {
   "cell_type": "code",
   "execution_count": 6,
   "metadata": {},
   "outputs": [],
   "source": [
    "def format_reviews(reviews_df):\n",
    "    # convert list to string\n",
    "    for col in reviews_df.columns:\n",
    "        reviews_df[col] = reviews_df[col].apply(lambda x: '\\n'.join(x))\n",
    "    reviews_df['review_helpful'] = (reviews_df['review_helpful']\n",
    "                                    .str.replace('One', '1')\n",
    "                                    .str.replace(r'[^0-9]', ''))\n",
    "    reviews_df['review_helpful'].loc[reviews_df['review_helpful'] == ''] = '0'\n",
    "    reviews_df['review_helpful'] = reviews_df['review_helpful'].astype(int)\n",
    "    reviews_df['review_posted_date'] = pd.to_datetime(reviews_df['review_posted_date']\n",
    "                                                      .str.strip('on'))\n",
    "    reviews_df['review_rating'] = reviews_df['review_rating'].str.strip('out of 5 stars').astype(float)\n",
    "    reviews_df.loc[reviews_df['review_rating'] == 0, 'review_rating'] = 5\n",
    "    reviews_df['review_length'] = reviews_df['review_text'].apply(lambda x: len(x))\n",
    "    reviews_df.drop_duplicates(inplace=True)\n",
    "    return reviews_df"
   ]
  },
  {
   "cell_type": "code",
   "execution_count": 7,
   "metadata": {},
   "outputs": [],
   "source": [
    "html_pygal = \"\"\"\n",
    "<!DOCTYPE html>\n",
    "<html>\n",
    "  <head>\n",
    "  <script type=\"text/javascript\" src=\"http://kozea.github.com/pygal.js/javascripts/svg.jquery.js\"></script>\n",
    "  <script type=\"text/javascript\" src=\"http://kozea.github.com/pygal.js/javascripts/pygal-tooltips.js\"></script>\n",
    "    <!-- Bar Graph Demo -->\n",
    "  </head>\n",
    "  <body>\n",
    "    <figure width=\"150\" height=\"150\">\n",
    "      {pygal_render}\n",
    "    </figure>\n",
    "  </body>\n",
    "</html>\n",
    "\"\"\""
   ]
  },
  {
   "cell_type": "code",
   "execution_count": 8,
   "metadata": {},
   "outputs": [],
   "source": [
    "def plot_review_length_hist(reviews_df):\n",
    "    \n",
    "    bins = np.arange(0, 1001, 50)\n",
    "    reviews_df['range'] = pd.cut(reviews_df['review_length'], bins, right = True)\n",
    "    review_length_df = reviews_df[['range', 'review_length']].groupby('range').count().reset_index().rename(columns={'review_length': 'counts'})\n",
    "    review_length_df['left'] = review_length_df['range'].apply(lambda x: x.left).astype(int)\n",
    "    review_length_df['right'] = review_length_df['range'].apply(lambda x: x.right).astype(int)\n",
    "    hist_bin = []\n",
    "    for index, row in review_length_df.iterrows():\n",
    "        new_tuple = (row['counts'], row['left'], row['right'])\n",
    "        hist_bin.append(new_tuple)\n",
    "    \n",
    "    review_length_hist = pygal.Histogram(show_legend=False, title=u'Review Length Histogram', dynamic_print_values=True,  style=DarkSolarizedStyle(\n",
    "                      value_font_family='googlefont:Raleway',\n",
    "                      value_font_size=30,\n",
    "                      value_colors=('white',)), x_title='Review length in number of character', y_title='Number of Reviews')\n",
    "    review_length_hist.add('# of reviews',  hist_bin)\n",
    "    return HTML(html_pygal.format(pygal_render=review_length_hist.render(is_unicode=True)))"
   ]
  },
  {
   "cell_type": "code",
   "execution_count": 9,
   "metadata": {},
   "outputs": [],
   "source": [
    "reviews_df = format_reviews(reviews_df)"
   ]
  },
  {
   "cell_type": "code",
   "execution_count": 10,
   "metadata": {},
   "outputs": [
    {
     "data": {
      "text/html": [
       "\n",
       "<!DOCTYPE html>\n",
       "<html>\n",
       "  <head>\n",
       "  <script type=\"text/javascript\" src=\"http://kozea.github.com/pygal.js/javascripts/svg.jquery.js\"></script>\n",
       "  <script type=\"text/javascript\" src=\"http://kozea.github.com/pygal.js/javascripts/pygal-tooltips.js\"></script>\n",
       "    <!-- Bar Graph Demo -->\n",
       "  </head>\n",
       "  <body>\n",
       "    <figure width=\"150\" height=\"150\">\n",
       "      <?xml version='1.0' encoding='utf-8'?>\n",
       "<?xml-stylesheet href=\"https://fonts.googleapis.com/css?family=Raleway\"?><svg xmlns:xlink=\"http://www.w3.org/1999/xlink\" xmlns=\"http://www.w3.org/2000/svg\" id=\"chart-1bc3a1f8-eb19-49f8-abd1-393d52720226\" class=\"pygal-chart\" viewBox=\"0 0 800 600\"><!--Generated with pygal 2.4.0 (lxml) ©Kozea 2012-2016 on 2018-07-27--><!--http://pygal.org--><!--http://github.com/Kozea/pygal--><defs><style type=\"text/css\">#chart-1bc3a1f8-eb19-49f8-abd1-393d52720226{-webkit-user-select:none;-webkit-font-smoothing:antialiased;font-family:Consolas,\"Liberation Mono\",Menlo,Courier,monospace}#chart-1bc3a1f8-eb19-49f8-abd1-393d52720226 .title{font-family:Consolas,\"Liberation Mono\",Menlo,Courier,monospace;font-size:16px}#chart-1bc3a1f8-eb19-49f8-abd1-393d52720226 .legends .legend text{font-family:Consolas,\"Liberation Mono\",Menlo,Courier,monospace;font-size:14px}#chart-1bc3a1f8-eb19-49f8-abd1-393d52720226 .axis text{font-family:Consolas,\"Liberation Mono\",Menlo,Courier,monospace;font-size:10px}#chart-1bc3a1f8-eb19-49f8-abd1-393d52720226 .axis text.major{font-family:Consolas,\"Liberation Mono\",Menlo,Courier,monospace;font-size:10px}#chart-1bc3a1f8-eb19-49f8-abd1-393d52720226 .text-overlay text.value{font-family:Raleway;font-size:30px}#chart-1bc3a1f8-eb19-49f8-abd1-393d52720226 .text-overlay text.label{font-family:Consolas,\"Liberation Mono\",Menlo,Courier,monospace;font-size:10px}#chart-1bc3a1f8-eb19-49f8-abd1-393d52720226 .tooltip{font-family:Consolas,\"Liberation Mono\",Menlo,Courier,monospace;font-size:14px}#chart-1bc3a1f8-eb19-49f8-abd1-393d52720226 text.no_data{font-family:Consolas,\"Liberation Mono\",Menlo,Courier,monospace;font-size:64px}\n",
       "#chart-1bc3a1f8-eb19-49f8-abd1-393d52720226{background-color:#073642}#chart-1bc3a1f8-eb19-49f8-abd1-393d52720226 path,#chart-1bc3a1f8-eb19-49f8-abd1-393d52720226 line,#chart-1bc3a1f8-eb19-49f8-abd1-393d52720226 rect,#chart-1bc3a1f8-eb19-49f8-abd1-393d52720226 circle{-webkit-transition:500ms ease-in;-moz-transition:500ms ease-in;transition:500ms ease-in}#chart-1bc3a1f8-eb19-49f8-abd1-393d52720226 .graph &gt; .background{fill:#073642}#chart-1bc3a1f8-eb19-49f8-abd1-393d52720226 .plot &gt; .background{fill:#002b36}#chart-1bc3a1f8-eb19-49f8-abd1-393d52720226 .graph{fill:#839496}#chart-1bc3a1f8-eb19-49f8-abd1-393d52720226 text.no_data{fill:#fdf6e3}#chart-1bc3a1f8-eb19-49f8-abd1-393d52720226 .title{fill:#fdf6e3}#chart-1bc3a1f8-eb19-49f8-abd1-393d52720226 .legends .legend text{fill:#839496}#chart-1bc3a1f8-eb19-49f8-abd1-393d52720226 .legends .legend:hover text{fill:#fdf6e3}#chart-1bc3a1f8-eb19-49f8-abd1-393d52720226 .axis .line{stroke:#fdf6e3}#chart-1bc3a1f8-eb19-49f8-abd1-393d52720226 .axis .guide.line{stroke:#657b83}#chart-1bc3a1f8-eb19-49f8-abd1-393d52720226 .axis .major.line{stroke:#839496}#chart-1bc3a1f8-eb19-49f8-abd1-393d52720226 .axis text.major{fill:#fdf6e3}#chart-1bc3a1f8-eb19-49f8-abd1-393d52720226 .axis.y .guides:hover .guide.line,#chart-1bc3a1f8-eb19-49f8-abd1-393d52720226 .line-graph .axis.x .guides:hover .guide.line,#chart-1bc3a1f8-eb19-49f8-abd1-393d52720226 .stackedline-graph .axis.x .guides:hover .guide.line,#chart-1bc3a1f8-eb19-49f8-abd1-393d52720226 .xy-graph .axis.x .guides:hover .guide.line{stroke:#fdf6e3}#chart-1bc3a1f8-eb19-49f8-abd1-393d52720226 .axis .guides:hover text{fill:#fdf6e3}#chart-1bc3a1f8-eb19-49f8-abd1-393d52720226 .reactive{fill-opacity:.66;stroke-opacity:.8}#chart-1bc3a1f8-eb19-49f8-abd1-393d52720226 .ci{stroke:#839496}#chart-1bc3a1f8-eb19-49f8-abd1-393d52720226 .reactive.active,#chart-1bc3a1f8-eb19-49f8-abd1-393d52720226 .active .reactive{fill-opacity:.9;stroke-opacity:.9;stroke-width:4}#chart-1bc3a1f8-eb19-49f8-abd1-393d52720226 .ci .reactive.active{stroke-width:1.5}#chart-1bc3a1f8-eb19-49f8-abd1-393d52720226 .series text{fill:#fdf6e3}#chart-1bc3a1f8-eb19-49f8-abd1-393d52720226 .tooltip rect{fill:#002b36;stroke:#fdf6e3;-webkit-transition:opacity 500ms ease-in;-moz-transition:opacity 500ms ease-in;transition:opacity 500ms ease-in}#chart-1bc3a1f8-eb19-49f8-abd1-393d52720226 .tooltip .label{fill:#839496}#chart-1bc3a1f8-eb19-49f8-abd1-393d52720226 .tooltip .label{fill:#839496}#chart-1bc3a1f8-eb19-49f8-abd1-393d52720226 .tooltip .legend{font-size:.8em;fill:#657b83}#chart-1bc3a1f8-eb19-49f8-abd1-393d52720226 .tooltip .x_label{font-size:.6em;fill:#fdf6e3}#chart-1bc3a1f8-eb19-49f8-abd1-393d52720226 .tooltip .xlink{font-size:.5em;text-decoration:underline}#chart-1bc3a1f8-eb19-49f8-abd1-393d52720226 .tooltip .value{font-size:1.5em}#chart-1bc3a1f8-eb19-49f8-abd1-393d52720226 .bound{font-size:.5em}#chart-1bc3a1f8-eb19-49f8-abd1-393d52720226 .max-value{font-size:.75em;fill:#657b83}#chart-1bc3a1f8-eb19-49f8-abd1-393d52720226 .map-element{fill:#002b36;stroke:#657b83 !important}#chart-1bc3a1f8-eb19-49f8-abd1-393d52720226 .map-element .reactive{fill-opacity:inherit;stroke-opacity:inherit}#chart-1bc3a1f8-eb19-49f8-abd1-393d52720226 .color-0,#chart-1bc3a1f8-eb19-49f8-abd1-393d52720226 .color-0 a:visited{stroke:#b58900;fill:#b58900}#chart-1bc3a1f8-eb19-49f8-abd1-393d52720226 .text-overlay .color-0 text{fill:white}\n",
       "#chart-1bc3a1f8-eb19-49f8-abd1-393d52720226 text.no_data{text-anchor:middle}#chart-1bc3a1f8-eb19-49f8-abd1-393d52720226 .guide.line{fill:none}#chart-1bc3a1f8-eb19-49f8-abd1-393d52720226 .centered{text-anchor:middle}#chart-1bc3a1f8-eb19-49f8-abd1-393d52720226 .title{text-anchor:middle}#chart-1bc3a1f8-eb19-49f8-abd1-393d52720226 .legends .legend text{fill-opacity:1}#chart-1bc3a1f8-eb19-49f8-abd1-393d52720226 .axis.x text{text-anchor:middle}#chart-1bc3a1f8-eb19-49f8-abd1-393d52720226 .axis.x:not(.web) text[transform]{text-anchor:start}#chart-1bc3a1f8-eb19-49f8-abd1-393d52720226 .axis.x:not(.web) text[transform].backwards{text-anchor:end}#chart-1bc3a1f8-eb19-49f8-abd1-393d52720226 .axis.y text{text-anchor:end}#chart-1bc3a1f8-eb19-49f8-abd1-393d52720226 .axis.y text[transform].backwards{text-anchor:start}#chart-1bc3a1f8-eb19-49f8-abd1-393d52720226 .axis.y2 text{text-anchor:start}#chart-1bc3a1f8-eb19-49f8-abd1-393d52720226 .axis.y2 text[transform].backwards{text-anchor:end}#chart-1bc3a1f8-eb19-49f8-abd1-393d52720226 .axis .guide.line{stroke-dasharray:4,4}#chart-1bc3a1f8-eb19-49f8-abd1-393d52720226 .axis .major.guide.line{stroke-dasharray:6,6}#chart-1bc3a1f8-eb19-49f8-abd1-393d52720226 .horizontal .axis.y .guide.line,#chart-1bc3a1f8-eb19-49f8-abd1-393d52720226 .horizontal .axis.y2 .guide.line,#chart-1bc3a1f8-eb19-49f8-abd1-393d52720226 .vertical .axis.x .guide.line{opacity:0}#chart-1bc3a1f8-eb19-49f8-abd1-393d52720226 .horizontal .axis.always_show .guide.line,#chart-1bc3a1f8-eb19-49f8-abd1-393d52720226 .vertical .axis.always_show .guide.line{opacity:1 !important}#chart-1bc3a1f8-eb19-49f8-abd1-393d52720226 .axis.y .guides:hover .guide.line,#chart-1bc3a1f8-eb19-49f8-abd1-393d52720226 .axis.y2 .guides:hover .guide.line,#chart-1bc3a1f8-eb19-49f8-abd1-393d52720226 .axis.x .guides:hover .guide.line{opacity:1}#chart-1bc3a1f8-eb19-49f8-abd1-393d52720226 .axis .guides:hover text{opacity:1}#chart-1bc3a1f8-eb19-49f8-abd1-393d52720226 .nofill{fill:none}#chart-1bc3a1f8-eb19-49f8-abd1-393d52720226 .subtle-fill{fill-opacity:.2}#chart-1bc3a1f8-eb19-49f8-abd1-393d52720226 .dot{stroke-width:1px;fill-opacity:1}#chart-1bc3a1f8-eb19-49f8-abd1-393d52720226 .dot.active{stroke-width:5px}#chart-1bc3a1f8-eb19-49f8-abd1-393d52720226 .dot.negative{fill:transparent}#chart-1bc3a1f8-eb19-49f8-abd1-393d52720226 text,#chart-1bc3a1f8-eb19-49f8-abd1-393d52720226 tspan{stroke:none !important}#chart-1bc3a1f8-eb19-49f8-abd1-393d52720226 .series text.active{opacity:1}#chart-1bc3a1f8-eb19-49f8-abd1-393d52720226 .tooltip rect{fill-opacity:.95;stroke-width:.5}#chart-1bc3a1f8-eb19-49f8-abd1-393d52720226 .tooltip text{fill-opacity:1}#chart-1bc3a1f8-eb19-49f8-abd1-393d52720226 .showable{visibility:hidden}#chart-1bc3a1f8-eb19-49f8-abd1-393d52720226 .showable.shown{visibility:visible}#chart-1bc3a1f8-eb19-49f8-abd1-393d52720226 .gauge-background{fill:rgba(229,229,229,1);stroke:none}#chart-1bc3a1f8-eb19-49f8-abd1-393d52720226 .bg-lines{stroke:#073642;stroke-width:2px}</style><script type=\"text/javascript\">window.pygal = window.pygal || {};window.pygal.config = window.pygal.config || {};window.pygal.config['1bc3a1f8-eb19-49f8-abd1-393d52720226'] = {\"allow_interruptions\": false, \"box_mode\": \"extremes\", \"classes\": [\"pygal-chart\"], \"css\": [\"file://style.css\", \"file://graph.css\"], \"defs\": [], \"disable_xml_declaration\": false, \"dots_size\": 2.5, \"dynamic_print_values\": true, \"explicit_size\": false, \"fill\": false, \"force_uri_protocol\": \"https\", \"formatter\": null, \"half_pie\": false, \"height\": 600, \"include_x_axis\": false, \"inner_radius\": 0, \"interpolate\": null, \"interpolation_parameters\": {}, \"interpolation_precision\": 250, \"inverse_y_axis\": false, \"js\": [\"//kozea.github.io/pygal.js/2.0.x/pygal-tooltips.min.js\"], \"legend_at_bottom\": false, \"legend_at_bottom_columns\": null, \"legend_box_size\": 12, \"logarithmic\": false, \"margin\": 20, \"margin_bottom\": null, \"margin_left\": null, \"margin_right\": null, \"margin_top\": null, \"max_scale\": 16, \"min_scale\": 4, \"missing_value_fill_truncation\": \"x\", \"no_data_text\": \"No data\", \"no_prefix\": false, \"order_min\": null, \"pretty_print\": false, \"print_labels\": false, \"print_values\": false, \"print_values_position\": \"center\", \"print_zeroes\": true, \"range\": null, \"rounded_bars\": null, \"secondary_range\": null, \"show_dots\": true, \"show_legend\": false, \"show_minor_x_labels\": true, \"show_minor_y_labels\": true, \"show_only_major_dots\": false, \"show_x_guides\": false, \"show_x_labels\": true, \"show_y_guides\": true, \"show_y_labels\": true, \"spacing\": 10, \"stack_from_top\": false, \"strict\": false, \"stroke\": true, \"stroke_style\": null, \"style\": {\"background\": \"#073642\", \"ci_colors\": [], \"colors\": [\"#b58900\", \"#cb4b16\", \"#dc322f\", \"#d33682\", \"#6c71c4\", \"#268bd2\", \"#2aa198\", \"#859900\"], \"font_family\": \"Consolas, \\\"Liberation Mono\\\", Menlo, Courier, monospace\", \"foreground\": \"#839496\", \"foreground_strong\": \"#fdf6e3\", \"foreground_subtle\": \"#657b83\", \"guide_stroke_dasharray\": \"4,4\", \"label_font_family\": \"Consolas, \\\"Liberation Mono\\\", Menlo, Courier, monospace\", \"label_font_size\": 10, \"legend_font_family\": \"Consolas, \\\"Liberation Mono\\\", Menlo, Courier, monospace\", \"legend_font_size\": 14, \"major_guide_stroke_dasharray\": \"6,6\", \"major_label_font_family\": \"Consolas, \\\"Liberation Mono\\\", Menlo, Courier, monospace\", \"major_label_font_size\": 10, \"no_data_font_family\": \"Consolas, \\\"Liberation Mono\\\", Menlo, Courier, monospace\", \"no_data_font_size\": 64, \"opacity\": \".66\", \"opacity_hover\": \".9\", \"plot_background\": \"#002b36\", \"stroke_opacity\": \".8\", \"stroke_opacity_hover\": \".9\", \"title_font_family\": \"Consolas, \\\"Liberation Mono\\\", Menlo, Courier, monospace\", \"title_font_size\": 16, \"tooltip_font_family\": \"Consolas, \\\"Liberation Mono\\\", Menlo, Courier, monospace\", \"tooltip_font_size\": 14, \"transition\": \"500ms ease-in\", \"value_background\": \"rgba(229, 229, 229, 1)\", \"value_colors\": [\"white\"], \"value_font_family\": \"Raleway\", \"value_font_size\": 30, \"value_label_font_family\": \"Consolas, \\\"Liberation Mono\\\", Menlo, Courier, monospace\", \"value_label_font_size\": 10}, \"title\": \"Review Length Histogram\", \"tooltip_border_radius\": 0, \"tooltip_fancy_mode\": true, \"truncate_label\": null, \"truncate_legend\": null, \"width\": 800, \"x_label_rotation\": 0, \"x_labels\": null, \"x_labels_major\": null, \"x_labels_major_count\": null, \"x_labels_major_every\": null, \"x_title\": \"Review length in number of character\", \"xrange\": null, \"y_label_rotation\": 0, \"y_labels\": null, \"y_labels_major\": null, \"y_labels_major_count\": null, \"y_labels_major_every\": null, \"y_title\": \"Number of Reviews\", \"zero\": 0, \"legends\": [\"# of reviews\"]}</script><script type=\"text/javascript\" xlink:href=\"https://kozea.github.io/pygal.js/2.0.x/pygal-tooltips.min.js\"/></defs><title>Review Length Histogram</title><g class=\"graph histogram-graph vertical\"><rect class=\"background\" height=\"600\" width=\"800\" x=\"0\" y=\"0\"/><g class=\"plot\" transform=\"translate(68, 46)\"><rect class=\"background\" height=\"488\" width=\"712.0\" x=\"0\" y=\"0\"/><g class=\"axis y always_show\"><g class=\"guides\"><path class=\"axis major line\" d=\"M0.000000 478.615385 h712.000000\"/><text class=\"major\" x=\"-5\" y=\"482.11538461538464\">0</text><title>0</title></g><g class=\"guides\"><path class=\"guide line\" d=\"M0.000000 422.081557 h712.000000\"/><text class=\"\" x=\"-5\" y=\"425.58155699721965\">10</text><title>10</title></g><g class=\"guides\"><path class=\"guide line\" d=\"M0.000000 365.547729 h712.000000\"/><text class=\"\" x=\"-5\" y=\"369.04772937905466\">20</text><title>20</title></g><g class=\"guides\"><path class=\"guide line\" d=\"M0.000000 309.013902 h712.000000\"/><text class=\"\" x=\"-5\" y=\"312.51390176088967\">30</text><title>30</title></g><g class=\"guides\"><path class=\"guide line\" d=\"M0.000000 252.480074 h712.000000\"/><text class=\"\" x=\"-5\" y=\"255.98007414272476\">40</text><title>40</title></g><g class=\"guides\"><path class=\"major guide line\" d=\"M0.000000 195.946247 h712.000000\"/><text class=\"major\" x=\"-5\" y=\"199.4462465245598\">50</text><title>50</title></g><g class=\"guides\"><path class=\"guide line\" d=\"M0.000000 139.412419 h712.000000\"/><text class=\"\" x=\"-5\" y=\"142.9124189063948\">60</text><title>60</title></g><g class=\"guides\"><path class=\"guide line\" d=\"M0.000000 82.878591 h712.000000\"/><text class=\"\" x=\"-5\" y=\"86.37859128822981\">70</text><title>70</title></g><g class=\"guides\"><path class=\"guide line\" d=\"M0.000000 26.344764 h712.000000\"/><text class=\"\" x=\"-5\" y=\"29.844763670064822\">80</text><title>80</title></g></g><g class=\"axis x\"><g class=\"guides\"><path class=\"axis line\" d=\"M13.692308 0.000000 v488.000000\"/><text class=\"\" x=\"13.692307692307692\" y=\"503.0\">0</text><title>0</title></g><g class=\"guides\"><path class=\"guide line\" d=\"M82.153846 0.000000 v488.000000\"/><text class=\"\" x=\"82.15384615384616\" y=\"503.0\">100</text><title>100</title></g><g class=\"guides\"><path class=\"guide line\" d=\"M150.615385 0.000000 v488.000000\"/><text class=\"\" x=\"150.6153846153846\" y=\"503.0\">200</text><title>200</title></g><g class=\"guides\"><path class=\"guide line\" d=\"M219.076923 0.000000 v488.000000\"/><text class=\"\" x=\"219.07692307692307\" y=\"503.0\">300</text><title>300</title></g><g class=\"guides\"><path class=\"guide line\" d=\"M287.538462 0.000000 v488.000000\"/><text class=\"\" x=\"287.53846153846155\" y=\"503.0\">400</text><title>400</title></g><g class=\"guides\"><path class=\"guide line\" d=\"M356.000000 0.000000 v488.000000\"/><text class=\"\" x=\"356.0\" y=\"503.0\">500</text><title>500</title></g><g class=\"guides\"><path class=\"guide line\" d=\"M424.461538 0.000000 v488.000000\"/><text class=\"\" x=\"424.46153846153845\" y=\"503.0\">600</text><title>600</title></g><g class=\"guides\"><path class=\"guide line\" d=\"M492.923077 0.000000 v488.000000\"/><text class=\"\" x=\"492.9230769230769\" y=\"503.0\">700</text><title>700</title></g><g class=\"guides\"><path class=\"guide line\" d=\"M561.384615 0.000000 v488.000000\"/><text class=\"\" x=\"561.3846153846154\" y=\"503.0\">800</text><title>800</title></g><g class=\"guides\"><path class=\"guide line\" d=\"M629.846154 0.000000 v488.000000\"/><text class=\"\" x=\"629.8461538461538\" y=\"503.0\">900</text><title>900</title></g><g class=\"guides\"><path class=\"guide line\" d=\"M698.307692 0.000000 v488.000000\"/><text class=\"\" x=\"698.3076923076923\" y=\"503.0\">1000</text><title>1000</title></g></g><g class=\"series serie-0 color-0\"><g class=\"histbars\"><g class=\"histbar\"><rect class=\"rect reactive tooltip-trigger\" height=\"469.23076923076934\" rx=\"0\" ry=\"0\" width=\"34.230769230769226\" x=\"13.692307692307692\" y=\"9.384615384615302\"/><desc class=\"value\">83: 0</desc><desc class=\"x centered\">30.807692307692307</desc><desc class=\"y centered\">243.99999999999997</desc></g><g class=\"histbar\"><rect class=\"rect reactive tooltip-trigger\" height=\"361.81649675625584\" rx=\"0\" ry=\"0\" width=\"34.23076923076924\" x=\"47.92307692307692\" y=\"116.7988878591288\"/><desc class=\"value\">64: 50</desc><desc class=\"x centered\">65.03846153846155</desc><desc class=\"y centered\">297.7071362372567</desc></g><g class=\"histbar\"><rect class=\"rect reactive tooltip-trigger\" height=\"260.0556070435589\" rx=\"0\" ry=\"0\" width=\"34.230769230769226\" x=\"82.15384615384616\" y=\"218.55977757182575\"/><desc class=\"value\">46: 100</desc><desc class=\"x centered\">99.26923076923077</desc><desc class=\"y centered\">348.5875810936052</desc></g><g class=\"histbar\"><rect class=\"rect reactive tooltip-trigger\" height=\"214.82854494902688\" rx=\"0\" ry=\"0\" width=\"34.230769230769226\" x=\"116.38461538461539\" y=\"263.78683966635776\"/><desc class=\"value\">38: 150</desc><desc class=\"x centered\">133.5</desc><desc class=\"y centered\">371.2011121408712</desc></g><g class=\"histbar\"><rect class=\"rect reactive tooltip-trigger\" height=\"90.45412418906398\" rx=\"0\" ry=\"0\" width=\"34.230769230769226\" x=\"150.6153846153846\" y=\"388.16126042632067\"/><desc class=\"value\">16: 200</desc><desc class=\"x centered\">167.73076923076923</desc><desc class=\"y centered\">433.3883225208526</desc></g><g class=\"histbar\"><rect class=\"rect reactive tooltip-trigger\" height=\"130.02780352177945\" rx=\"0\" ry=\"0\" width=\"34.230769230769226\" x=\"184.84615384615384\" y=\"348.5875810936052\"/><desc class=\"value\">23: 250</desc><desc class=\"x centered\">201.96153846153845</desc><desc class=\"y centered\">413.6014828544949</desc></g><g class=\"histbar\"><rect class=\"rect reactive tooltip-trigger\" height=\"50.880444856348504\" rx=\"0\" ry=\"0\" width=\"34.230769230769255\" x=\"219.07692307692307\" y=\"427.73493975903614\"/><desc class=\"value\">9: 300</desc><desc class=\"x centered\">236.19230769230768</desc><desc class=\"y centered\">453.1751621872104</desc></g><g class=\"histbar\"><rect class=\"rect reactive tooltip-trigger\" height=\"39.57367933271553\" rx=\"0\" ry=\"0\" width=\"34.230769230769226\" x=\"253.30769230769232\" y=\"439.0417052826691\"/><desc class=\"value\">7: 350</desc><desc class=\"x centered\">270.4230769230769</desc><desc class=\"y centered\">458.8285449490269</desc></g><g class=\"histbar\"><rect class=\"rect reactive tooltip-trigger\" height=\"39.57367933271553\" rx=\"0\" ry=\"0\" width=\"34.230769230769226\" x=\"287.53846153846155\" y=\"439.0417052826691\"/><desc class=\"value\">7: 400</desc><desc class=\"x centered\">304.6538461538462</desc><desc class=\"y centered\">458.8285449490269</desc></g><g class=\"histbar\"><rect class=\"rect reactive tooltip-trigger\" height=\"50.880444856348504\" rx=\"0\" ry=\"0\" width=\"34.230769230769226\" x=\"321.7692307692308\" y=\"427.73493975903614\"/><desc class=\"value\">9: 450</desc><desc class=\"x centered\">338.88461538461536</desc><desc class=\"y centered\">453.1751621872104</desc></g><g class=\"histbar\"><rect class=\"rect reactive tooltip-trigger\" height=\"28.266913809082496\" rx=\"0\" ry=\"0\" width=\"34.230769230769226\" x=\"356.0\" y=\"450.34847080630215\"/><desc class=\"value\">5: 500</desc><desc class=\"x centered\">373.11538461538464</desc><desc class=\"y centered\">464.48192771084337</desc></g><g class=\"histbar\"><rect class=\"rect reactive tooltip-trigger\" height=\"22.613531047266008\" rx=\"0\" ry=\"0\" width=\"34.230769230769226\" x=\"390.2307692307692\" y=\"456.00185356811863\"/><desc class=\"value\">4: 550</desc><desc class=\"x centered\">407.3461538461538</desc><desc class=\"y centered\">467.30861909175167</desc></g><g class=\"histbar\"><rect class=\"rect reactive tooltip-trigger\" height=\"28.266913809082496\" rx=\"0\" ry=\"0\" width=\"34.230769230769226\" x=\"424.46153846153845\" y=\"450.34847080630215\"/><desc class=\"value\">5: 600</desc><desc class=\"x centered\">441.5769230769231</desc><desc class=\"y centered\">464.48192771084337</desc></g><g class=\"histbar\"><rect class=\"rect reactive tooltip-trigger\" height=\"11.306765523633032\" rx=\"0\" ry=\"0\" width=\"34.230769230769226\" x=\"458.6923076923077\" y=\"467.3086190917516\"/><desc class=\"value\">2: 650</desc><desc class=\"x centered\">475.80769230769226</desc><desc class=\"y centered\">472.96200185356815</desc></g><g class=\"histbar\"><rect class=\"rect reactive tooltip-trigger\" height=\"11.306765523633032\" rx=\"0\" ry=\"0\" width=\"34.23076923076928\" x=\"492.9230769230769\" y=\"467.3086190917516\"/><desc class=\"value\">2: 700</desc><desc class=\"x centered\">510.03846153846155</desc><desc class=\"y centered\">472.96200185356815</desc></g><g class=\"histbar\"><rect class=\"rect reactive tooltip-trigger\" height=\"22.613531047266008\" rx=\"0\" ry=\"0\" width=\"34.23076923076917\" x=\"527.1538461538462\" y=\"456.00185356811863\"/><desc class=\"value\">4: 750</desc><desc class=\"x centered\">544.2692307692307</desc><desc class=\"y centered\">467.30861909175167</desc></g><g class=\"histbar\"><rect class=\"rect reactive tooltip-trigger\" height=\"22.613531047266008\" rx=\"0\" ry=\"0\" width=\"34.23076923076928\" x=\"561.3846153846154\" y=\"456.00185356811863\"/><desc class=\"value\">4: 800</desc><desc class=\"x centered\">578.5</desc><desc class=\"y centered\">467.30861909175167</desc></g><g class=\"histbar\"><rect class=\"rect reactive tooltip-trigger\" height=\"11.306765523633032\" rx=\"0\" ry=\"0\" width=\"34.23076923076917\" x=\"595.6153846153846\" y=\"467.3086190917516\"/><desc class=\"value\">2: 850</desc><desc class=\"x centered\">612.7307692307693</desc><desc class=\"y centered\">472.96200185356815</desc></g><g class=\"histbar\"><rect class=\"rect reactive tooltip-trigger\" height=\"11.306765523633032\" rx=\"0\" ry=\"0\" width=\"34.23076923076928\" x=\"629.8461538461538\" y=\"467.3086190917516\"/><desc class=\"value\">2: 900</desc><desc class=\"x centered\">646.9615384615385</desc><desc class=\"y centered\">472.96200185356815</desc></g><g class=\"histbar\"><rect class=\"rect reactive tooltip-trigger\" height=\"11.306765523633032\" rx=\"0\" ry=\"0\" width=\"34.23076923076917\" x=\"664.0769230769231\" y=\"467.3086190917516\"/><desc class=\"value\">2: 950</desc><desc class=\"x centered\">681.1923076923076</desc><desc class=\"y centered\">472.96200185356815</desc></g></g></g></g><g class=\"titles\"><text class=\"title plot_title\" x=\"400.0\" y=\"26\">Review Length Histogram</text><text class=\"title\" x=\"424.0\" y=\"580\">Review length in number of character</text><text class=\"title\" x=\"0\" y=\"316.0\" transform=\"rotate(-90 0.000000 290.000000)\">Number of Reviews</text></g><g class=\"plot overlay\" transform=\"translate(68, 46)\"><g class=\"series serie-0 color-0\"/></g><g class=\"plot text-overlay\" transform=\"translate(68, 46)\"><g class=\"series serie-0 color-0\"><text class=\"value showable\" text-anchor=\"middle\" x=\"30.807692307692307\" y=\"253.99999999999997\">83: 0</text><text class=\"value showable\" text-anchor=\"middle\" x=\"65.03846153846155\" y=\"307.7071362372567\">64: 50</text><text class=\"value showable\" text-anchor=\"middle\" x=\"99.26923076923077\" y=\"358.5875810936052\">46: 100</text><text class=\"value showable\" text-anchor=\"middle\" x=\"133.5\" y=\"381.2011121408712\">38: 150</text><text class=\"value showable\" text-anchor=\"middle\" x=\"167.73076923076923\" y=\"443.3883225208526\">16: 200</text><text class=\"value showable\" text-anchor=\"middle\" x=\"201.96153846153845\" y=\"423.6014828544949\">23: 250</text><text class=\"value showable\" text-anchor=\"middle\" x=\"236.19230769230768\" y=\"463.1751621872104\">9: 300</text><text class=\"value showable\" text-anchor=\"middle\" x=\"270.4230769230769\" y=\"468.8285449490269\">7: 350</text><text class=\"value showable\" text-anchor=\"middle\" x=\"304.6538461538462\" y=\"468.8285449490269\">7: 400</text><text class=\"value showable\" text-anchor=\"middle\" x=\"338.88461538461536\" y=\"463.1751621872104\">9: 450</text><text class=\"value showable\" text-anchor=\"middle\" x=\"373.11538461538464\" y=\"474.48192771084337\">5: 500</text><text class=\"value showable\" text-anchor=\"middle\" x=\"407.3461538461538\" y=\"477.30861909175167\">4: 550</text><text class=\"value showable\" text-anchor=\"middle\" x=\"441.5769230769231\" y=\"474.48192771084337\">5: 600</text><text class=\"value showable\" text-anchor=\"middle\" x=\"475.80769230769226\" y=\"482.96200185356815\">2: 650</text><text class=\"value showable\" text-anchor=\"middle\" x=\"510.03846153846155\" y=\"482.96200185356815\">2: 700</text><text class=\"value showable\" text-anchor=\"middle\" x=\"544.2692307692307\" y=\"477.30861909175167\">4: 750</text><text class=\"value showable\" text-anchor=\"middle\" x=\"578.5\" y=\"477.30861909175167\">4: 800</text><text class=\"value showable\" text-anchor=\"middle\" x=\"612.7307692307693\" y=\"482.96200185356815\">2: 850</text><text class=\"value showable\" text-anchor=\"middle\" x=\"646.9615384615385\" y=\"482.96200185356815\">2: 900</text><text class=\"value showable\" text-anchor=\"middle\" x=\"681.1923076923076\" y=\"482.96200185356815\">2: 950</text></g></g><g class=\"plot tooltip-overlay\" transform=\"translate(68, 46)\"><g class=\"tooltip\" style=\"opacity: 0\" transform=\"translate(0 0)\"><rect class=\"tooltip-box\" height=\"0\" rx=\"0\" ry=\"0\" width=\"0\"/><g class=\"text\"/></g></g></g></svg>\n",
       "    </figure>\n",
       "  </body>\n",
       "</html>\n"
      ],
      "text/plain": [
       "<IPython.core.display.HTML object>"
      ]
     },
     "execution_count": 10,
     "metadata": {},
     "output_type": "execute_result"
    }
   ],
   "source": [
    "plot_review_length_hist(reviews_df)"
   ]
  },
  {
   "cell_type": "code",
   "execution_count": 11,
   "metadata": {},
   "outputs": [],
   "source": [
    "def plot_review_stars(reviews_df):\n",
    "    \n",
    "    reviews_200 = reviews_df[reviews_df['review_length'] > 200].groupby('review_rating').count().reset_index()\n",
    "    reviews_200 = reviews_200[['review_rating','review_author']].rename(columns={'review_author': 'counts'}).sort_values(by=['review_rating'])\n",
    "    review_star_bar = pygal.Bar(show_legend=False,dynamic_print_values=True,  style=DarkSolarizedStyle(\n",
    "                      value_font_family='googlefont:Raleway',\n",
    "                      value_font_size=30,\n",
    "                      value_colors=('white',)))\n",
    "    review_star_bar.title = 'Review Stars for Review Length > 200'\n",
    "    review_star_bar.x_labels = ['1 Star', '2 Star', '3 Star', '4 Star', '5 Star']\n",
    "    review_star_bar.add('# of Stars', reviews_200['counts'].tolist())\n",
    "    return HTML(html_pygal.format(pygal_render=review_star_bar.render(is_unicode=True)))"
   ]
  },
  {
   "cell_type": "code",
   "execution_count": 12,
   "metadata": {},
   "outputs": [
    {
     "data": {
      "text/html": [
       "\n",
       "<!DOCTYPE html>\n",
       "<html>\n",
       "  <head>\n",
       "  <script type=\"text/javascript\" src=\"http://kozea.github.com/pygal.js/javascripts/svg.jquery.js\"></script>\n",
       "  <script type=\"text/javascript\" src=\"http://kozea.github.com/pygal.js/javascripts/pygal-tooltips.js\"></script>\n",
       "    <!-- Bar Graph Demo -->\n",
       "  </head>\n",
       "  <body>\n",
       "    <figure width=\"150\" height=\"150\">\n",
       "      <?xml version='1.0' encoding='utf-8'?>\n",
       "<?xml-stylesheet href=\"https://fonts.googleapis.com/css?family=Raleway\"?><svg xmlns:xlink=\"http://www.w3.org/1999/xlink\" xmlns=\"http://www.w3.org/2000/svg\" id=\"chart-8c138fff-ae3b-405f-ad70-252ae9a11b12\" class=\"pygal-chart\" viewBox=\"0 0 800 600\"><!--Generated with pygal 2.4.0 (lxml) ©Kozea 2012-2016 on 2018-07-27--><!--http://pygal.org--><!--http://github.com/Kozea/pygal--><defs><style type=\"text/css\">#chart-8c138fff-ae3b-405f-ad70-252ae9a11b12{-webkit-user-select:none;-webkit-font-smoothing:antialiased;font-family:Consolas,\"Liberation Mono\",Menlo,Courier,monospace}#chart-8c138fff-ae3b-405f-ad70-252ae9a11b12 .title{font-family:Consolas,\"Liberation Mono\",Menlo,Courier,monospace;font-size:16px}#chart-8c138fff-ae3b-405f-ad70-252ae9a11b12 .legends .legend text{font-family:Consolas,\"Liberation Mono\",Menlo,Courier,monospace;font-size:14px}#chart-8c138fff-ae3b-405f-ad70-252ae9a11b12 .axis text{font-family:Consolas,\"Liberation Mono\",Menlo,Courier,monospace;font-size:10px}#chart-8c138fff-ae3b-405f-ad70-252ae9a11b12 .axis text.major{font-family:Consolas,\"Liberation Mono\",Menlo,Courier,monospace;font-size:10px}#chart-8c138fff-ae3b-405f-ad70-252ae9a11b12 .text-overlay text.value{font-family:Raleway;font-size:30px}#chart-8c138fff-ae3b-405f-ad70-252ae9a11b12 .text-overlay text.label{font-family:Consolas,\"Liberation Mono\",Menlo,Courier,monospace;font-size:10px}#chart-8c138fff-ae3b-405f-ad70-252ae9a11b12 .tooltip{font-family:Consolas,\"Liberation Mono\",Menlo,Courier,monospace;font-size:14px}#chart-8c138fff-ae3b-405f-ad70-252ae9a11b12 text.no_data{font-family:Consolas,\"Liberation Mono\",Menlo,Courier,monospace;font-size:64px}\n",
       "#chart-8c138fff-ae3b-405f-ad70-252ae9a11b12{background-color:#073642}#chart-8c138fff-ae3b-405f-ad70-252ae9a11b12 path,#chart-8c138fff-ae3b-405f-ad70-252ae9a11b12 line,#chart-8c138fff-ae3b-405f-ad70-252ae9a11b12 rect,#chart-8c138fff-ae3b-405f-ad70-252ae9a11b12 circle{-webkit-transition:500ms ease-in;-moz-transition:500ms ease-in;transition:500ms ease-in}#chart-8c138fff-ae3b-405f-ad70-252ae9a11b12 .graph &gt; .background{fill:#073642}#chart-8c138fff-ae3b-405f-ad70-252ae9a11b12 .plot &gt; .background{fill:#002b36}#chart-8c138fff-ae3b-405f-ad70-252ae9a11b12 .graph{fill:#839496}#chart-8c138fff-ae3b-405f-ad70-252ae9a11b12 text.no_data{fill:#fdf6e3}#chart-8c138fff-ae3b-405f-ad70-252ae9a11b12 .title{fill:#fdf6e3}#chart-8c138fff-ae3b-405f-ad70-252ae9a11b12 .legends .legend text{fill:#839496}#chart-8c138fff-ae3b-405f-ad70-252ae9a11b12 .legends .legend:hover text{fill:#fdf6e3}#chart-8c138fff-ae3b-405f-ad70-252ae9a11b12 .axis .line{stroke:#fdf6e3}#chart-8c138fff-ae3b-405f-ad70-252ae9a11b12 .axis .guide.line{stroke:#657b83}#chart-8c138fff-ae3b-405f-ad70-252ae9a11b12 .axis .major.line{stroke:#839496}#chart-8c138fff-ae3b-405f-ad70-252ae9a11b12 .axis text.major{fill:#fdf6e3}#chart-8c138fff-ae3b-405f-ad70-252ae9a11b12 .axis.y .guides:hover .guide.line,#chart-8c138fff-ae3b-405f-ad70-252ae9a11b12 .line-graph .axis.x .guides:hover .guide.line,#chart-8c138fff-ae3b-405f-ad70-252ae9a11b12 .stackedline-graph .axis.x .guides:hover .guide.line,#chart-8c138fff-ae3b-405f-ad70-252ae9a11b12 .xy-graph .axis.x .guides:hover .guide.line{stroke:#fdf6e3}#chart-8c138fff-ae3b-405f-ad70-252ae9a11b12 .axis .guides:hover text{fill:#fdf6e3}#chart-8c138fff-ae3b-405f-ad70-252ae9a11b12 .reactive{fill-opacity:.66;stroke-opacity:.8}#chart-8c138fff-ae3b-405f-ad70-252ae9a11b12 .ci{stroke:#839496}#chart-8c138fff-ae3b-405f-ad70-252ae9a11b12 .reactive.active,#chart-8c138fff-ae3b-405f-ad70-252ae9a11b12 .active .reactive{fill-opacity:.9;stroke-opacity:.9;stroke-width:4}#chart-8c138fff-ae3b-405f-ad70-252ae9a11b12 .ci .reactive.active{stroke-width:1.5}#chart-8c138fff-ae3b-405f-ad70-252ae9a11b12 .series text{fill:#fdf6e3}#chart-8c138fff-ae3b-405f-ad70-252ae9a11b12 .tooltip rect{fill:#002b36;stroke:#fdf6e3;-webkit-transition:opacity 500ms ease-in;-moz-transition:opacity 500ms ease-in;transition:opacity 500ms ease-in}#chart-8c138fff-ae3b-405f-ad70-252ae9a11b12 .tooltip .label{fill:#839496}#chart-8c138fff-ae3b-405f-ad70-252ae9a11b12 .tooltip .label{fill:#839496}#chart-8c138fff-ae3b-405f-ad70-252ae9a11b12 .tooltip .legend{font-size:.8em;fill:#657b83}#chart-8c138fff-ae3b-405f-ad70-252ae9a11b12 .tooltip .x_label{font-size:.6em;fill:#fdf6e3}#chart-8c138fff-ae3b-405f-ad70-252ae9a11b12 .tooltip .xlink{font-size:.5em;text-decoration:underline}#chart-8c138fff-ae3b-405f-ad70-252ae9a11b12 .tooltip .value{font-size:1.5em}#chart-8c138fff-ae3b-405f-ad70-252ae9a11b12 .bound{font-size:.5em}#chart-8c138fff-ae3b-405f-ad70-252ae9a11b12 .max-value{font-size:.75em;fill:#657b83}#chart-8c138fff-ae3b-405f-ad70-252ae9a11b12 .map-element{fill:#002b36;stroke:#657b83 !important}#chart-8c138fff-ae3b-405f-ad70-252ae9a11b12 .map-element .reactive{fill-opacity:inherit;stroke-opacity:inherit}#chart-8c138fff-ae3b-405f-ad70-252ae9a11b12 .color-0,#chart-8c138fff-ae3b-405f-ad70-252ae9a11b12 .color-0 a:visited{stroke:#b58900;fill:#b58900}#chart-8c138fff-ae3b-405f-ad70-252ae9a11b12 .text-overlay .color-0 text{fill:white}\n",
       "#chart-8c138fff-ae3b-405f-ad70-252ae9a11b12 text.no_data{text-anchor:middle}#chart-8c138fff-ae3b-405f-ad70-252ae9a11b12 .guide.line{fill:none}#chart-8c138fff-ae3b-405f-ad70-252ae9a11b12 .centered{text-anchor:middle}#chart-8c138fff-ae3b-405f-ad70-252ae9a11b12 .title{text-anchor:middle}#chart-8c138fff-ae3b-405f-ad70-252ae9a11b12 .legends .legend text{fill-opacity:1}#chart-8c138fff-ae3b-405f-ad70-252ae9a11b12 .axis.x text{text-anchor:middle}#chart-8c138fff-ae3b-405f-ad70-252ae9a11b12 .axis.x:not(.web) text[transform]{text-anchor:start}#chart-8c138fff-ae3b-405f-ad70-252ae9a11b12 .axis.x:not(.web) text[transform].backwards{text-anchor:end}#chart-8c138fff-ae3b-405f-ad70-252ae9a11b12 .axis.y text{text-anchor:end}#chart-8c138fff-ae3b-405f-ad70-252ae9a11b12 .axis.y text[transform].backwards{text-anchor:start}#chart-8c138fff-ae3b-405f-ad70-252ae9a11b12 .axis.y2 text{text-anchor:start}#chart-8c138fff-ae3b-405f-ad70-252ae9a11b12 .axis.y2 text[transform].backwards{text-anchor:end}#chart-8c138fff-ae3b-405f-ad70-252ae9a11b12 .axis .guide.line{stroke-dasharray:4,4}#chart-8c138fff-ae3b-405f-ad70-252ae9a11b12 .axis .major.guide.line{stroke-dasharray:6,6}#chart-8c138fff-ae3b-405f-ad70-252ae9a11b12 .horizontal .axis.y .guide.line,#chart-8c138fff-ae3b-405f-ad70-252ae9a11b12 .horizontal .axis.y2 .guide.line,#chart-8c138fff-ae3b-405f-ad70-252ae9a11b12 .vertical .axis.x .guide.line{opacity:0}#chart-8c138fff-ae3b-405f-ad70-252ae9a11b12 .horizontal .axis.always_show .guide.line,#chart-8c138fff-ae3b-405f-ad70-252ae9a11b12 .vertical .axis.always_show .guide.line{opacity:1 !important}#chart-8c138fff-ae3b-405f-ad70-252ae9a11b12 .axis.y .guides:hover .guide.line,#chart-8c138fff-ae3b-405f-ad70-252ae9a11b12 .axis.y2 .guides:hover .guide.line,#chart-8c138fff-ae3b-405f-ad70-252ae9a11b12 .axis.x .guides:hover .guide.line{opacity:1}#chart-8c138fff-ae3b-405f-ad70-252ae9a11b12 .axis .guides:hover text{opacity:1}#chart-8c138fff-ae3b-405f-ad70-252ae9a11b12 .nofill{fill:none}#chart-8c138fff-ae3b-405f-ad70-252ae9a11b12 .subtle-fill{fill-opacity:.2}#chart-8c138fff-ae3b-405f-ad70-252ae9a11b12 .dot{stroke-width:1px;fill-opacity:1}#chart-8c138fff-ae3b-405f-ad70-252ae9a11b12 .dot.active{stroke-width:5px}#chart-8c138fff-ae3b-405f-ad70-252ae9a11b12 .dot.negative{fill:transparent}#chart-8c138fff-ae3b-405f-ad70-252ae9a11b12 text,#chart-8c138fff-ae3b-405f-ad70-252ae9a11b12 tspan{stroke:none !important}#chart-8c138fff-ae3b-405f-ad70-252ae9a11b12 .series text.active{opacity:1}#chart-8c138fff-ae3b-405f-ad70-252ae9a11b12 .tooltip rect{fill-opacity:.95;stroke-width:.5}#chart-8c138fff-ae3b-405f-ad70-252ae9a11b12 .tooltip text{fill-opacity:1}#chart-8c138fff-ae3b-405f-ad70-252ae9a11b12 .showable{visibility:hidden}#chart-8c138fff-ae3b-405f-ad70-252ae9a11b12 .showable.shown{visibility:visible}#chart-8c138fff-ae3b-405f-ad70-252ae9a11b12 .gauge-background{fill:rgba(229,229,229,1);stroke:none}#chart-8c138fff-ae3b-405f-ad70-252ae9a11b12 .bg-lines{stroke:#073642;stroke-width:2px}</style><script type=\"text/javascript\">window.pygal = window.pygal || {};window.pygal.config = window.pygal.config || {};window.pygal.config['8c138fff-ae3b-405f-ad70-252ae9a11b12'] = {\"allow_interruptions\": false, \"box_mode\": \"extremes\", \"classes\": [\"pygal-chart\"], \"css\": [\"file://style.css\", \"file://graph.css\"], \"defs\": [], \"disable_xml_declaration\": false, \"dots_size\": 2.5, \"dynamic_print_values\": true, \"explicit_size\": false, \"fill\": false, \"force_uri_protocol\": \"https\", \"formatter\": null, \"half_pie\": false, \"height\": 600, \"include_x_axis\": false, \"inner_radius\": 0, \"interpolate\": null, \"interpolation_parameters\": {}, \"interpolation_precision\": 250, \"inverse_y_axis\": false, \"js\": [\"//kozea.github.io/pygal.js/2.0.x/pygal-tooltips.min.js\"], \"legend_at_bottom\": false, \"legend_at_bottom_columns\": null, \"legend_box_size\": 12, \"logarithmic\": false, \"margin\": 20, \"margin_bottom\": null, \"margin_left\": null, \"margin_right\": null, \"margin_top\": null, \"max_scale\": 16, \"min_scale\": 4, \"missing_value_fill_truncation\": \"x\", \"no_data_text\": \"No data\", \"no_prefix\": false, \"order_min\": null, \"pretty_print\": false, \"print_labels\": false, \"print_values\": false, \"print_values_position\": \"center\", \"print_zeroes\": true, \"range\": null, \"rounded_bars\": null, \"secondary_range\": null, \"show_dots\": true, \"show_legend\": false, \"show_minor_x_labels\": true, \"show_minor_y_labels\": true, \"show_only_major_dots\": false, \"show_x_guides\": false, \"show_x_labels\": true, \"show_y_guides\": true, \"show_y_labels\": true, \"spacing\": 10, \"stack_from_top\": false, \"strict\": false, \"stroke\": true, \"stroke_style\": null, \"style\": {\"background\": \"#073642\", \"ci_colors\": [], \"colors\": [\"#b58900\", \"#cb4b16\", \"#dc322f\", \"#d33682\", \"#6c71c4\", \"#268bd2\", \"#2aa198\", \"#859900\"], \"font_family\": \"Consolas, \\\"Liberation Mono\\\", Menlo, Courier, monospace\", \"foreground\": \"#839496\", \"foreground_strong\": \"#fdf6e3\", \"foreground_subtle\": \"#657b83\", \"guide_stroke_dasharray\": \"4,4\", \"label_font_family\": \"Consolas, \\\"Liberation Mono\\\", Menlo, Courier, monospace\", \"label_font_size\": 10, \"legend_font_family\": \"Consolas, \\\"Liberation Mono\\\", Menlo, Courier, monospace\", \"legend_font_size\": 14, \"major_guide_stroke_dasharray\": \"6,6\", \"major_label_font_family\": \"Consolas, \\\"Liberation Mono\\\", Menlo, Courier, monospace\", \"major_label_font_size\": 10, \"no_data_font_family\": \"Consolas, \\\"Liberation Mono\\\", Menlo, Courier, monospace\", \"no_data_font_size\": 64, \"opacity\": \".66\", \"opacity_hover\": \".9\", \"plot_background\": \"#002b36\", \"stroke_opacity\": \".8\", \"stroke_opacity_hover\": \".9\", \"title_font_family\": \"Consolas, \\\"Liberation Mono\\\", Menlo, Courier, monospace\", \"title_font_size\": 16, \"tooltip_font_family\": \"Consolas, \\\"Liberation Mono\\\", Menlo, Courier, monospace\", \"tooltip_font_size\": 14, \"transition\": \"500ms ease-in\", \"value_background\": \"rgba(229, 229, 229, 1)\", \"value_colors\": [\"white\"], \"value_font_family\": \"Raleway\", \"value_font_size\": 30, \"value_label_font_family\": \"Consolas, \\\"Liberation Mono\\\", Menlo, Courier, monospace\", \"value_label_font_size\": 10}, \"title\": \"Review Stars for Review Length &gt; 200\", \"tooltip_border_radius\": 0, \"tooltip_fancy_mode\": true, \"truncate_label\": null, \"truncate_legend\": null, \"width\": 800, \"x_label_rotation\": 0, \"x_labels\": [\"1 Star\", \"2 Star\", \"3 Star\", \"4 Star\", \"5 Star\"], \"x_labels_major\": null, \"x_labels_major_count\": null, \"x_labels_major_every\": null, \"x_title\": null, \"xrange\": null, \"y_label_rotation\": 0, \"y_labels\": null, \"y_labels_major\": null, \"y_labels_major_count\": null, \"y_labels_major_every\": null, \"y_title\": null, \"zero\": 0, \"legends\": [\"# of Stars\"]}</script><script type=\"text/javascript\" xlink:href=\"https://kozea.github.io/pygal.js/2.0.x/pygal-tooltips.min.js\"/></defs><title>Review Stars for Review Length &gt; 200</title><g class=\"graph bar-graph vertical\"><rect class=\"background\" height=\"600\" width=\"800\" x=\"0\" y=\"0\"/><g class=\"plot\" transform=\"translate(42, 46)\"><rect class=\"background\" height=\"514\" width=\"738.0\" x=\"0\" y=\"0\"/><g class=\"axis y always_show\"><g class=\"guides\"><path class=\"axis major line\" d=\"M0.000000 504.115385 h738.000000\"/><text class=\"major\" x=\"-5\" y=\"507.61538461538464\">0</text><title>0</title></g><g class=\"guides\"><path class=\"guide line\" d=\"M0.000000 420.347458 h738.000000\"/><text class=\"\" x=\"-5\" y=\"423.8474576271187\">10</text><title>10</title></g><g class=\"guides\"><path class=\"guide line\" d=\"M0.000000 336.579531 h738.000000\"/><text class=\"\" x=\"-5\" y=\"340.0795306388527\">20</text><title>20</title></g><g class=\"guides\"><path class=\"guide line\" d=\"M0.000000 252.811604 h738.000000\"/><text class=\"\" x=\"-5\" y=\"256.3116036505867\">30</text><title>30</title></g><g class=\"guides\"><path class=\"guide line\" d=\"M0.000000 169.043677 h738.000000\"/><text class=\"\" x=\"-5\" y=\"172.5436766623207\">40</text><title>40</title></g><g class=\"guides\"><path class=\"major guide line\" d=\"M0.000000 85.275750 h738.000000\"/><text class=\"major\" x=\"-5\" y=\"88.77574967405474\">50</text><title>50</title></g></g><g class=\"axis x\"><path class=\"line\" d=\"M0.000000 0.000000 v514.000000\"/><g class=\"guides\"><path class=\"guide line\" d=\"M85.153846 0.000000 v514.000000\"/><text class=\"\" x=\"85.15384615384615\" y=\"529.0\">1 Star</text></g><g class=\"guides\"><path class=\"guide line\" d=\"M227.076923 0.000000 v514.000000\"/><text class=\"\" x=\"227.07692307692307\" y=\"529.0\">2 Star</text></g><g class=\"guides\"><path class=\"guide line\" d=\"M369.000000 0.000000 v514.000000\"/><text class=\"\" x=\"369.0\" y=\"529.0\">3 Star</text></g><g class=\"guides\"><path class=\"guide line\" d=\"M510.923077 0.000000 v514.000000\"/><text class=\"\" x=\"510.9230769230769\" y=\"529.0\">4 Star</text></g><g class=\"guides\"><path class=\"guide line\" d=\"M652.846154 0.000000 v514.000000\"/><text class=\"\" x=\"652.8461538461538\" y=\"529.0\">5 Star</text></g></g><g class=\"series serie-0 color-0\"><g class=\"bars\"><g class=\"bar\"><rect class=\"rect reactive tooltip-trigger\" height=\"67.01434159061279\" rx=\"0\" ry=\"0\" width=\"109.90523076923076\" x=\"30.201230769230765\" y=\"437.10104302477185\"/><desc class=\"value\">8</desc><desc class=\"x centered\">85.15384615384615</desc><desc class=\"y centered\">470.6082138200783</desc><desc class=\"x_label\">1 Star</desc></g><g class=\"bar\"><rect class=\"rect reactive tooltip-trigger\" height=\"83.76792698826597\" rx=\"0\" ry=\"0\" width=\"109.90523076923076\" x=\"172.1243076923077\" y=\"420.3474576271187\"/><desc class=\"value\">10</desc><desc class=\"x centered\">227.07692307692307</desc><desc class=\"y centered\">462.2314211212516</desc><desc class=\"x_label\">2 Star</desc></g><g class=\"bar\"><rect class=\"rect reactive tooltip-trigger\" height=\"92.14471968709256\" rx=\"0\" ry=\"0\" width=\"109.90523076923076\" x=\"314.0473846153846\" y=\"411.9706649282921\"/><desc class=\"value\">11</desc><desc class=\"x centered\">369.0</desc><desc class=\"y centered\">458.04302477183836</desc><desc class=\"x_label\">3 Star</desc></g><g class=\"bar\"><rect class=\"rect reactive tooltip-trigger\" height=\"217.7966101694916\" rx=\"0\" ry=\"0\" width=\"109.90523076923076\" x=\"455.9704615384615\" y=\"286.31877444589304\"/><desc class=\"value\">26</desc><desc class=\"x centered\">510.9230769230769</desc><desc class=\"y centered\">395.21707953063884</desc><desc class=\"x_label\">4 Star</desc></g><g class=\"bar\"><rect class=\"rect reactive tooltip-trigger\" height=\"494.2307692307693\" rx=\"0\" ry=\"0\" width=\"109.90523076923076\" x=\"597.8935384615386\" y=\"9.884615384615358\"/><desc class=\"value\">59</desc><desc class=\"x centered\">652.8461538461539</desc><desc class=\"y centered\">257.0</desc><desc class=\"x_label\">5 Star</desc></g></g></g></g><g class=\"titles\"><text class=\"title plot_title\" x=\"400.0\" y=\"26\">Review Stars for Review Length &gt; 200</text></g><g class=\"plot overlay\" transform=\"translate(42, 46)\"><g class=\"series serie-0 color-0\"/></g><g class=\"plot text-overlay\" transform=\"translate(42, 46)\"><g class=\"series serie-0 color-0\"><text class=\"value showable\" text-anchor=\"middle\" x=\"85.15384615384615\" y=\"480.6082138200783\">8</text><text class=\"value showable\" text-anchor=\"middle\" x=\"227.07692307692307\" y=\"472.2314211212516\">10</text><text class=\"value showable\" text-anchor=\"middle\" x=\"369.0\" y=\"468.04302477183836\">11</text><text class=\"value showable\" text-anchor=\"middle\" x=\"510.9230769230769\" y=\"405.21707953063884\">26</text><text class=\"value showable\" text-anchor=\"middle\" x=\"652.8461538461539\" y=\"267.0\">59</text></g></g><g class=\"plot tooltip-overlay\" transform=\"translate(42, 46)\"><g class=\"tooltip\" style=\"opacity: 0\" transform=\"translate(0 0)\"><rect class=\"tooltip-box\" height=\"0\" rx=\"0\" ry=\"0\" width=\"0\"/><g class=\"text\"/></g></g></g></svg>\n",
       "    </figure>\n",
       "  </body>\n",
       "</html>\n"
      ],
      "text/plain": [
       "<IPython.core.display.HTML object>"
      ]
     },
     "execution_count": 12,
     "metadata": {},
     "output_type": "execute_result"
    }
   ],
   "source": [
    "plot_review_stars(reviews_df)"
   ]
  },
  {
   "cell_type": "code",
   "execution_count": 13,
   "metadata": {},
   "outputs": [],
   "source": [
    "def plot_monthly_sales(reviews_df):\n",
    "    reviews_df['year'] = reviews_df['review_posted_date'].apply(lambda reviews_df:reviews_df.year)\t\n",
    "    reviews_df['month'] = reviews_df['review_posted_date'].apply(lambda reviews_df:reviews_df.month)\n",
    "    # reviews_df.set_index(reviews_df['index_date_time'],inplace=True)\n",
    "    monthly_reviews = reviews_df.groupby(['year', 'month']).count().reset_index()\n",
    "    monthly_reviews['day'] = monthly_reviews['month'].apply(lambda monthly_reviews:1)\n",
    "    monthly_reviews_counts = monthly_reviews[['year','month', 'day', 'review_posted_date']].rename(columns={'review_posted_date': 'counts'})\n",
    "    monthly_reviews_counts['date'] = pd.to_datetime(monthly_reviews_counts[['year','month','day']])\n",
    "    monthly_review_series = pygal.Line(x_label_rotation=20, show_legend=False,dynamic_print_values=True, style=DarkSolarizedStyle(\n",
    "                      value_font_family='googlefont:Raleway',\n",
    "                      value_font_size=30,\n",
    "                      value_colors=('white',)))\n",
    "    monthly_review_series.x_labels = map(lambda d: d.strftime('%Y-%m-%d'), monthly_reviews_counts['date'].tolist())\n",
    "    monthly_review_series.title = 'Estimated Monthly Sales Based on Number of Reviews'\n",
    "    monthly_review_series.add(\"Sales\", monthly_reviews_counts['counts'].tolist())\n",
    "    return HTML(html_pygal.format(pygal_render=monthly_review_series.render(is_unicode=True)))"
   ]
  },
  {
   "cell_type": "code",
   "execution_count": 14,
   "metadata": {},
   "outputs": [
    {
     "data": {
      "text/html": [
       "\n",
       "<!DOCTYPE html>\n",
       "<html>\n",
       "  <head>\n",
       "  <script type=\"text/javascript\" src=\"http://kozea.github.com/pygal.js/javascripts/svg.jquery.js\"></script>\n",
       "  <script type=\"text/javascript\" src=\"http://kozea.github.com/pygal.js/javascripts/pygal-tooltips.js\"></script>\n",
       "    <!-- Bar Graph Demo -->\n",
       "  </head>\n",
       "  <body>\n",
       "    <figure width=\"150\" height=\"150\">\n",
       "      <?xml version='1.0' encoding='utf-8'?>\n",
       "<?xml-stylesheet href=\"https://fonts.googleapis.com/css?family=Raleway\"?><svg xmlns:xlink=\"http://www.w3.org/1999/xlink\" xmlns=\"http://www.w3.org/2000/svg\" id=\"chart-f1a371fa-a6be-411e-a9cd-cada4408e787\" class=\"pygal-chart\" viewBox=\"0 0 800 600\"><!--Generated with pygal 2.4.0 (lxml) ©Kozea 2012-2016 on 2018-07-27--><!--http://pygal.org--><!--http://github.com/Kozea/pygal--><defs><style type=\"text/css\">#chart-f1a371fa-a6be-411e-a9cd-cada4408e787{-webkit-user-select:none;-webkit-font-smoothing:antialiased;font-family:Consolas,\"Liberation Mono\",Menlo,Courier,monospace}#chart-f1a371fa-a6be-411e-a9cd-cada4408e787 .title{font-family:Consolas,\"Liberation Mono\",Menlo,Courier,monospace;font-size:16px}#chart-f1a371fa-a6be-411e-a9cd-cada4408e787 .legends .legend text{font-family:Consolas,\"Liberation Mono\",Menlo,Courier,monospace;font-size:14px}#chart-f1a371fa-a6be-411e-a9cd-cada4408e787 .axis text{font-family:Consolas,\"Liberation Mono\",Menlo,Courier,monospace;font-size:10px}#chart-f1a371fa-a6be-411e-a9cd-cada4408e787 .axis text.major{font-family:Consolas,\"Liberation Mono\",Menlo,Courier,monospace;font-size:10px}#chart-f1a371fa-a6be-411e-a9cd-cada4408e787 .text-overlay text.value{font-family:Raleway;font-size:30px}#chart-f1a371fa-a6be-411e-a9cd-cada4408e787 .text-overlay text.label{font-family:Consolas,\"Liberation Mono\",Menlo,Courier,monospace;font-size:10px}#chart-f1a371fa-a6be-411e-a9cd-cada4408e787 .tooltip{font-family:Consolas,\"Liberation Mono\",Menlo,Courier,monospace;font-size:14px}#chart-f1a371fa-a6be-411e-a9cd-cada4408e787 text.no_data{font-family:Consolas,\"Liberation Mono\",Menlo,Courier,monospace;font-size:64px}\n",
       "#chart-f1a371fa-a6be-411e-a9cd-cada4408e787{background-color:#073642}#chart-f1a371fa-a6be-411e-a9cd-cada4408e787 path,#chart-f1a371fa-a6be-411e-a9cd-cada4408e787 line,#chart-f1a371fa-a6be-411e-a9cd-cada4408e787 rect,#chart-f1a371fa-a6be-411e-a9cd-cada4408e787 circle{-webkit-transition:500ms ease-in;-moz-transition:500ms ease-in;transition:500ms ease-in}#chart-f1a371fa-a6be-411e-a9cd-cada4408e787 .graph &gt; .background{fill:#073642}#chart-f1a371fa-a6be-411e-a9cd-cada4408e787 .plot &gt; .background{fill:#002b36}#chart-f1a371fa-a6be-411e-a9cd-cada4408e787 .graph{fill:#839496}#chart-f1a371fa-a6be-411e-a9cd-cada4408e787 text.no_data{fill:#fdf6e3}#chart-f1a371fa-a6be-411e-a9cd-cada4408e787 .title{fill:#fdf6e3}#chart-f1a371fa-a6be-411e-a9cd-cada4408e787 .legends .legend text{fill:#839496}#chart-f1a371fa-a6be-411e-a9cd-cada4408e787 .legends .legend:hover text{fill:#fdf6e3}#chart-f1a371fa-a6be-411e-a9cd-cada4408e787 .axis .line{stroke:#fdf6e3}#chart-f1a371fa-a6be-411e-a9cd-cada4408e787 .axis .guide.line{stroke:#657b83}#chart-f1a371fa-a6be-411e-a9cd-cada4408e787 .axis .major.line{stroke:#839496}#chart-f1a371fa-a6be-411e-a9cd-cada4408e787 .axis text.major{fill:#fdf6e3}#chart-f1a371fa-a6be-411e-a9cd-cada4408e787 .axis.y .guides:hover .guide.line,#chart-f1a371fa-a6be-411e-a9cd-cada4408e787 .line-graph .axis.x .guides:hover .guide.line,#chart-f1a371fa-a6be-411e-a9cd-cada4408e787 .stackedline-graph .axis.x .guides:hover .guide.line,#chart-f1a371fa-a6be-411e-a9cd-cada4408e787 .xy-graph .axis.x .guides:hover .guide.line{stroke:#fdf6e3}#chart-f1a371fa-a6be-411e-a9cd-cada4408e787 .axis .guides:hover text{fill:#fdf6e3}#chart-f1a371fa-a6be-411e-a9cd-cada4408e787 .reactive{fill-opacity:.66;stroke-opacity:.8}#chart-f1a371fa-a6be-411e-a9cd-cada4408e787 .ci{stroke:#839496}#chart-f1a371fa-a6be-411e-a9cd-cada4408e787 .reactive.active,#chart-f1a371fa-a6be-411e-a9cd-cada4408e787 .active .reactive{fill-opacity:.9;stroke-opacity:.9;stroke-width:4}#chart-f1a371fa-a6be-411e-a9cd-cada4408e787 .ci .reactive.active{stroke-width:1.5}#chart-f1a371fa-a6be-411e-a9cd-cada4408e787 .series text{fill:#fdf6e3}#chart-f1a371fa-a6be-411e-a9cd-cada4408e787 .tooltip rect{fill:#002b36;stroke:#fdf6e3;-webkit-transition:opacity 500ms ease-in;-moz-transition:opacity 500ms ease-in;transition:opacity 500ms ease-in}#chart-f1a371fa-a6be-411e-a9cd-cada4408e787 .tooltip .label{fill:#839496}#chart-f1a371fa-a6be-411e-a9cd-cada4408e787 .tooltip .label{fill:#839496}#chart-f1a371fa-a6be-411e-a9cd-cada4408e787 .tooltip .legend{font-size:.8em;fill:#657b83}#chart-f1a371fa-a6be-411e-a9cd-cada4408e787 .tooltip .x_label{font-size:.6em;fill:#fdf6e3}#chart-f1a371fa-a6be-411e-a9cd-cada4408e787 .tooltip .xlink{font-size:.5em;text-decoration:underline}#chart-f1a371fa-a6be-411e-a9cd-cada4408e787 .tooltip .value{font-size:1.5em}#chart-f1a371fa-a6be-411e-a9cd-cada4408e787 .bound{font-size:.5em}#chart-f1a371fa-a6be-411e-a9cd-cada4408e787 .max-value{font-size:.75em;fill:#657b83}#chart-f1a371fa-a6be-411e-a9cd-cada4408e787 .map-element{fill:#002b36;stroke:#657b83 !important}#chart-f1a371fa-a6be-411e-a9cd-cada4408e787 .map-element .reactive{fill-opacity:inherit;stroke-opacity:inherit}#chart-f1a371fa-a6be-411e-a9cd-cada4408e787 .color-0,#chart-f1a371fa-a6be-411e-a9cd-cada4408e787 .color-0 a:visited{stroke:#b58900;fill:#b58900}#chart-f1a371fa-a6be-411e-a9cd-cada4408e787 .text-overlay .color-0 text{fill:white}\n",
       "#chart-f1a371fa-a6be-411e-a9cd-cada4408e787 text.no_data{text-anchor:middle}#chart-f1a371fa-a6be-411e-a9cd-cada4408e787 .guide.line{fill:none}#chart-f1a371fa-a6be-411e-a9cd-cada4408e787 .centered{text-anchor:middle}#chart-f1a371fa-a6be-411e-a9cd-cada4408e787 .title{text-anchor:middle}#chart-f1a371fa-a6be-411e-a9cd-cada4408e787 .legends .legend text{fill-opacity:1}#chart-f1a371fa-a6be-411e-a9cd-cada4408e787 .axis.x text{text-anchor:middle}#chart-f1a371fa-a6be-411e-a9cd-cada4408e787 .axis.x:not(.web) text[transform]{text-anchor:start}#chart-f1a371fa-a6be-411e-a9cd-cada4408e787 .axis.x:not(.web) text[transform].backwards{text-anchor:end}#chart-f1a371fa-a6be-411e-a9cd-cada4408e787 .axis.y text{text-anchor:end}#chart-f1a371fa-a6be-411e-a9cd-cada4408e787 .axis.y text[transform].backwards{text-anchor:start}#chart-f1a371fa-a6be-411e-a9cd-cada4408e787 .axis.y2 text{text-anchor:start}#chart-f1a371fa-a6be-411e-a9cd-cada4408e787 .axis.y2 text[transform].backwards{text-anchor:end}#chart-f1a371fa-a6be-411e-a9cd-cada4408e787 .axis .guide.line{stroke-dasharray:4,4}#chart-f1a371fa-a6be-411e-a9cd-cada4408e787 .axis .major.guide.line{stroke-dasharray:6,6}#chart-f1a371fa-a6be-411e-a9cd-cada4408e787 .horizontal .axis.y .guide.line,#chart-f1a371fa-a6be-411e-a9cd-cada4408e787 .horizontal .axis.y2 .guide.line,#chart-f1a371fa-a6be-411e-a9cd-cada4408e787 .vertical .axis.x .guide.line{opacity:0}#chart-f1a371fa-a6be-411e-a9cd-cada4408e787 .horizontal .axis.always_show .guide.line,#chart-f1a371fa-a6be-411e-a9cd-cada4408e787 .vertical .axis.always_show .guide.line{opacity:1 !important}#chart-f1a371fa-a6be-411e-a9cd-cada4408e787 .axis.y .guides:hover .guide.line,#chart-f1a371fa-a6be-411e-a9cd-cada4408e787 .axis.y2 .guides:hover .guide.line,#chart-f1a371fa-a6be-411e-a9cd-cada4408e787 .axis.x .guides:hover .guide.line{opacity:1}#chart-f1a371fa-a6be-411e-a9cd-cada4408e787 .axis .guides:hover text{opacity:1}#chart-f1a371fa-a6be-411e-a9cd-cada4408e787 .nofill{fill:none}#chart-f1a371fa-a6be-411e-a9cd-cada4408e787 .subtle-fill{fill-opacity:.2}#chart-f1a371fa-a6be-411e-a9cd-cada4408e787 .dot{stroke-width:1px;fill-opacity:1}#chart-f1a371fa-a6be-411e-a9cd-cada4408e787 .dot.active{stroke-width:5px}#chart-f1a371fa-a6be-411e-a9cd-cada4408e787 .dot.negative{fill:transparent}#chart-f1a371fa-a6be-411e-a9cd-cada4408e787 text,#chart-f1a371fa-a6be-411e-a9cd-cada4408e787 tspan{stroke:none !important}#chart-f1a371fa-a6be-411e-a9cd-cada4408e787 .series text.active{opacity:1}#chart-f1a371fa-a6be-411e-a9cd-cada4408e787 .tooltip rect{fill-opacity:.95;stroke-width:.5}#chart-f1a371fa-a6be-411e-a9cd-cada4408e787 .tooltip text{fill-opacity:1}#chart-f1a371fa-a6be-411e-a9cd-cada4408e787 .showable{visibility:hidden}#chart-f1a371fa-a6be-411e-a9cd-cada4408e787 .showable.shown{visibility:visible}#chart-f1a371fa-a6be-411e-a9cd-cada4408e787 .gauge-background{fill:rgba(229,229,229,1);stroke:none}#chart-f1a371fa-a6be-411e-a9cd-cada4408e787 .bg-lines{stroke:#073642;stroke-width:2px}</style><script type=\"text/javascript\">window.pygal = window.pygal || {};window.pygal.config = window.pygal.config || {};window.pygal.config['f1a371fa-a6be-411e-a9cd-cada4408e787'] = {\"allow_interruptions\": false, \"box_mode\": \"extremes\", \"classes\": [\"pygal-chart\"], \"css\": [\"file://style.css\", \"file://graph.css\"], \"defs\": [], \"disable_xml_declaration\": false, \"dots_size\": 2.5, \"dynamic_print_values\": true, \"explicit_size\": false, \"fill\": false, \"force_uri_protocol\": \"https\", \"formatter\": null, \"half_pie\": false, \"height\": 600, \"include_x_axis\": false, \"inner_radius\": 0, \"interpolate\": null, \"interpolation_parameters\": {}, \"interpolation_precision\": 250, \"inverse_y_axis\": false, \"js\": [\"//kozea.github.io/pygal.js/2.0.x/pygal-tooltips.min.js\"], \"legend_at_bottom\": false, \"legend_at_bottom_columns\": null, \"legend_box_size\": 12, \"logarithmic\": false, \"margin\": 20, \"margin_bottom\": null, \"margin_left\": null, \"margin_right\": null, \"margin_top\": null, \"max_scale\": 16, \"min_scale\": 4, \"missing_value_fill_truncation\": \"x\", \"no_data_text\": \"No data\", \"no_prefix\": false, \"order_min\": null, \"pretty_print\": false, \"print_labels\": false, \"print_values\": false, \"print_values_position\": \"center\", \"print_zeroes\": true, \"range\": null, \"rounded_bars\": null, \"secondary_range\": null, \"show_dots\": true, \"show_legend\": false, \"show_minor_x_labels\": true, \"show_minor_y_labels\": true, \"show_only_major_dots\": false, \"show_x_guides\": false, \"show_x_labels\": true, \"show_y_guides\": true, \"show_y_labels\": true, \"spacing\": 10, \"stack_from_top\": false, \"strict\": false, \"stroke\": true, \"stroke_style\": null, \"style\": {\"background\": \"#073642\", \"ci_colors\": [], \"colors\": [\"#b58900\", \"#cb4b16\", \"#dc322f\", \"#d33682\", \"#6c71c4\", \"#268bd2\", \"#2aa198\", \"#859900\"], \"font_family\": \"Consolas, \\\"Liberation Mono\\\", Menlo, Courier, monospace\", \"foreground\": \"#839496\", \"foreground_strong\": \"#fdf6e3\", \"foreground_subtle\": \"#657b83\", \"guide_stroke_dasharray\": \"4,4\", \"label_font_family\": \"Consolas, \\\"Liberation Mono\\\", Menlo, Courier, monospace\", \"label_font_size\": 10, \"legend_font_family\": \"Consolas, \\\"Liberation Mono\\\", Menlo, Courier, monospace\", \"legend_font_size\": 14, \"major_guide_stroke_dasharray\": \"6,6\", \"major_label_font_family\": \"Consolas, \\\"Liberation Mono\\\", Menlo, Courier, monospace\", \"major_label_font_size\": 10, \"no_data_font_family\": \"Consolas, \\\"Liberation Mono\\\", Menlo, Courier, monospace\", \"no_data_font_size\": 64, \"opacity\": \".66\", \"opacity_hover\": \".9\", \"plot_background\": \"#002b36\", \"stroke_opacity\": \".8\", \"stroke_opacity_hover\": \".9\", \"title_font_family\": \"Consolas, \\\"Liberation Mono\\\", Menlo, Courier, monospace\", \"title_font_size\": 16, \"tooltip_font_family\": \"Consolas, \\\"Liberation Mono\\\", Menlo, Courier, monospace\", \"tooltip_font_size\": 14, \"transition\": \"500ms ease-in\", \"value_background\": \"rgba(229, 229, 229, 1)\", \"value_colors\": [\"white\"], \"value_font_family\": \"Raleway\", \"value_font_size\": 30, \"value_label_font_family\": \"Consolas, \\\"Liberation Mono\\\", Menlo, Courier, monospace\", \"value_label_font_size\": 10}, \"title\": \"Estimated Monthly Sales Based on Number of Reviews\", \"tooltip_border_radius\": 0, \"tooltip_fancy_mode\": true, \"truncate_label\": null, \"truncate_legend\": null, \"width\": 800, \"x_label_rotation\": 20, \"x_labels\": [\"2017-04-01\", \"2017-05-01\", \"2017-06-01\", \"2017-07-01\", \"2017-08-01\", \"2017-09-01\", \"2017-10-01\", \"2017-11-01\", \"2017-12-01\", \"2018-01-01\", \"2018-02-01\", \"2018-03-01\", \"2018-04-01\", \"2018-05-01\", \"2018-06-01\", \"2018-07-01\"], \"x_labels_major\": null, \"x_labels_major_count\": null, \"x_labels_major_every\": null, \"x_title\": null, \"xrange\": null, \"y_label_rotation\": 0, \"y_labels\": null, \"y_labels_major\": null, \"y_labels_major_count\": null, \"y_labels_major_every\": null, \"y_title\": null, \"zero\": 0, \"legends\": [\"Sales\"]}</script><script type=\"text/javascript\" xlink:href=\"https://kozea.github.io/pygal.js/2.0.x/pygal-tooltips.min.js\"/></defs><title>Estimated Monthly Sales Based on Number of Reviews</title><g class=\"graph line-graph vertical\"><rect class=\"background\" height=\"600\" width=\"800\" x=\"0\" y=\"0\"/><g class=\"plot\" transform=\"translate(42, 46)\"><rect class=\"background\" height=\"503.47879140045984\" width=\"701.6184427528455\" x=\"0\" y=\"0\"/><g class=\"axis y always_show\"><path class=\"line\" d=\"M0.000000 503.478791 h701.618443\"/><g class=\"guides\"><path class=\"guide line\" d=\"M0.000000 478.667937 h701.618443\"/><text class=\"\" x=\"-5\" y=\"482.1679374973122\">6</text><title>6</title></g><g class=\"guides\"><path class=\"guide line\" d=\"M0.000000 448.410799 h701.618443\"/><text class=\"\" x=\"-5\" y=\"451.91079859103456\">8</text><title>8</title></g><g class=\"guides\"><path class=\"major guide line\" d=\"M0.000000 418.153660 h701.618443\"/><text class=\"major\" x=\"-5\" y=\"421.6536596847569\">10</text><title>10</title></g><g class=\"guides\"><path class=\"guide line\" d=\"M0.000000 387.896521 h701.618443\"/><text class=\"\" x=\"-5\" y=\"391.39652077847927\">12</text><title>12</title></g><g class=\"guides\"><path class=\"guide line\" d=\"M0.000000 357.639382 h701.618443\"/><text class=\"\" x=\"-5\" y=\"361.1393818722016\">14</text><title>14</title></g><g class=\"guides\"><path class=\"guide line\" d=\"M0.000000 327.382243 h701.618443\"/><text class=\"\" x=\"-5\" y=\"330.882242965924\">16</text><title>16</title></g><g class=\"guides\"><path class=\"guide line\" d=\"M0.000000 297.125104 h701.618443\"/><text class=\"\" x=\"-5\" y=\"300.6251040596464\">18</text><title>18</title></g><g class=\"guides\"><path class=\"major guide line\" d=\"M0.000000 266.867965 h701.618443\"/><text class=\"major\" x=\"-5\" y=\"270.36796515336874\">20</text><title>20</title></g><g class=\"guides\"><path class=\"guide line\" d=\"M0.000000 236.610826 h701.618443\"/><text class=\"\" x=\"-5\" y=\"240.1108262470911\">22</text><title>22</title></g><g class=\"guides\"><path class=\"guide line\" d=\"M0.000000 206.353687 h701.618443\"/><text class=\"\" x=\"-5\" y=\"209.8536873408135\">24</text><title>24</title></g><g class=\"guides\"><path class=\"guide line\" d=\"M0.000000 176.096548 h701.618443\"/><text class=\"\" x=\"-5\" y=\"179.59654843453586\">26</text><title>26</title></g><g class=\"guides\"><path class=\"guide line\" d=\"M0.000000 145.839410 h701.618443\"/><text class=\"\" x=\"-5\" y=\"149.33940952825822\">28</text><title>28</title></g><g class=\"guides\"><path class=\"major guide line\" d=\"M0.000000 115.582271 h701.618443\"/><text class=\"major\" x=\"-5\" y=\"119.08227062198057\">30</text><title>30</title></g><g class=\"guides\"><path class=\"guide line\" d=\"M0.000000 85.325132 h701.618443\"/><text class=\"\" x=\"-5\" y=\"88.82513171570298\">32</text><title>32</title></g><g class=\"guides\"><path class=\"guide line\" d=\"M0.000000 55.067993 h701.618443\"/><text class=\"\" x=\"-5\" y=\"58.567992809425334\">34</text><title>34</title></g><g class=\"guides\"><path class=\"guide line\" d=\"M0.000000 24.810854 h701.618443\"/><text class=\"\" x=\"-5\" y=\"28.310853903147688\">36</text><title>36</title></g></g><g class=\"axis x\"><g class=\"guides\"><path class=\"line\" d=\"M13.492662 0.000000 v503.478791\"/><text class=\"\" x=\"13.492662360631643\" y=\"518.4787914004598\" transform=\"rotate(20 13.492662 518.478791)\">2017-04-01</text></g><g class=\"guides\"><path class=\"guide line\" d=\"M58.468204 0.000000 v503.478791\"/><text class=\"\" x=\"58.468203562737116\" y=\"518.4787914004598\" transform=\"rotate(20 58.468204 518.478791)\">2017-05-01</text></g><g class=\"guides\"><path class=\"guide line\" d=\"M103.443745 0.000000 v503.478791\"/><text class=\"\" x=\"103.44374476484259\" y=\"518.4787914004598\" transform=\"rotate(20 103.443745 518.478791)\">2017-06-01</text></g><g class=\"guides\"><path class=\"guide line\" d=\"M148.419286 0.000000 v503.478791\"/><text class=\"\" x=\"148.41928596694805\" y=\"518.4787914004598\" transform=\"rotate(20 148.419286 518.478791)\">2017-07-01</text></g><g class=\"guides\"><path class=\"guide line\" d=\"M193.394827 0.000000 v503.478791\"/><text class=\"\" x=\"193.39482716905354\" y=\"518.4787914004598\" transform=\"rotate(20 193.394827 518.478791)\">2017-08-01</text></g><g class=\"guides\"><path class=\"guide line\" d=\"M238.370368 0.000000 v503.478791\"/><text class=\"\" x=\"238.370368371159\" y=\"518.4787914004598\" transform=\"rotate(20 238.370368 518.478791)\">2017-09-01</text></g><g class=\"guides\"><path class=\"guide line\" d=\"M283.345910 0.000000 v503.478791\"/><text class=\"\" x=\"283.3459095732645\" y=\"518.4787914004598\" transform=\"rotate(20 283.345910 518.478791)\">2017-10-01</text></g><g class=\"guides\"><path class=\"guide line\" d=\"M328.321451 0.000000 v503.478791\"/><text class=\"\" x=\"328.32145077537\" y=\"518.4787914004598\" transform=\"rotate(20 328.321451 518.478791)\">2017-11-01</text></g><g class=\"guides\"><path class=\"guide line\" d=\"M373.296992 0.000000 v503.478791\"/><text class=\"\" x=\"373.29699197747544\" y=\"518.4787914004598\" transform=\"rotate(20 373.296992 518.478791)\">2017-12-01</text></g><g class=\"guides\"><path class=\"guide line\" d=\"M418.272533 0.000000 v503.478791\"/><text class=\"\" x=\"418.27253317958093\" y=\"518.4787914004598\" transform=\"rotate(20 418.272533 518.478791)\">2018-01-01</text></g><g class=\"guides\"><path class=\"guide line\" d=\"M463.248074 0.000000 v503.478791\"/><text class=\"\" x=\"463.24807438168637\" y=\"518.4787914004598\" transform=\"rotate(20 463.248074 518.478791)\">2018-02-01</text></g><g class=\"guides\"><path class=\"guide line\" d=\"M508.223616 0.000000 v503.478791\"/><text class=\"\" x=\"508.22361558379185\" y=\"518.4787914004598\" transform=\"rotate(20 508.223616 518.478791)\">2018-03-01</text></g><g class=\"guides\"><path class=\"guide line\" d=\"M553.199157 0.000000 v503.478791\"/><text class=\"\" x=\"553.1991567858975\" y=\"518.4787914004598\" transform=\"rotate(20 553.199157 518.478791)\">2018-04-01</text></g><g class=\"guides\"><path class=\"guide line\" d=\"M598.174698 0.000000 v503.478791\"/><text class=\"\" x=\"598.1746979880029\" y=\"518.4787914004598\" transform=\"rotate(20 598.174698 518.478791)\">2018-05-01</text></g><g class=\"guides\"><path class=\"guide line\" d=\"M643.150239 0.000000 v503.478791\"/><text class=\"\" x=\"643.1502391901083\" y=\"518.4787914004598\" transform=\"rotate(20 643.150239 518.478791)\">2018-06-01</text></g><g class=\"guides\"><path class=\"guide line\" d=\"M688.125780 0.000000 v503.478791\"/><text class=\"\" x=\"688.1257803922138\" y=\"518.4787914004598\" transform=\"rotate(20 688.125780 518.478791)\">2018-07-01</text></g></g><g class=\"series serie-0 color-0\"><path class=\"line reactive nofill\" d=\"M13.492662 403.025090 L58.468204 327.382243 103.443745 100.453701 148.419286 206.353687 193.394827 206.353687 238.370368 115.582271 283.345910 9.682284 328.321451 55.067993 373.296992 176.096548 418.272533 221.482257 463.248074 342.510812 508.223616 191.225118 553.199157 206.353687 598.174698 403.025090 643.150239 418.153660 688.125780 493.796507\"/></g></g><g class=\"titles\"><text class=\"title plot_title\" x=\"400.0\" y=\"26\">Estimated Monthly Sales Based on Number of Reviews</text></g><g class=\"plot overlay\" transform=\"translate(42, 46)\"><g class=\"series serie-0 color-0\"><g class=\"dots\"><circle class=\"dot reactive tooltip-trigger\" cx=\"13.492662360631643\" cy=\"403.0250902316181\" r=\"2.5\"/><desc class=\"value\">11</desc><desc class=\"x top\">13.492662360631643</desc><desc class=\"y top\">403.0250902316181</desc><desc class=\"x_label\">2017-04-01</desc></g><g class=\"dots\"><circle class=\"dot reactive tooltip-trigger\" cx=\"58.468203562737116\" cy=\"327.382242965924\" r=\"2.5\"/><desc class=\"value\">16</desc><desc class=\"x top\">58.468203562737116</desc><desc class=\"y top\">327.382242965924</desc><desc class=\"x_label\">2017-05-01</desc></g><g class=\"dots\"><circle class=\"dot reactive tooltip-trigger\" cx=\"103.44374476484259\" cy=\"100.45370116884175\" r=\"2.5\"/><desc class=\"value\">31</desc><desc class=\"x \">103.44374476484259</desc><desc class=\"y \">100.45370116884175</desc><desc class=\"x_label\">2017-06-01</desc></g><g class=\"dots\"><circle class=\"dot reactive tooltip-trigger\" cx=\"148.41928596694805\" cy=\"206.3536873408135\" r=\"2.5\"/><desc class=\"value\">24</desc><desc class=\"x \">148.41928596694805</desc><desc class=\"y \">206.3536873408135</desc><desc class=\"x_label\">2017-07-01</desc></g><g class=\"dots\"><circle class=\"dot reactive tooltip-trigger\" cx=\"193.39482716905354\" cy=\"206.3536873408135\" r=\"2.5\"/><desc class=\"value\">24</desc><desc class=\"x \">193.39482716905354</desc><desc class=\"y \">206.3536873408135</desc><desc class=\"x_label\">2017-08-01</desc></g><g class=\"dots\"><circle class=\"dot reactive tooltip-trigger\" cx=\"238.370368371159\" cy=\"115.58227062198057\" r=\"2.5\"/><desc class=\"value\">30</desc><desc class=\"x \">238.370368371159</desc><desc class=\"y \">115.58227062198057</desc><desc class=\"x_label\">2017-09-01</desc></g><g class=\"dots\"><circle class=\"dot reactive tooltip-trigger\" cx=\"283.3459095732645\" cy=\"9.682284450008865\" r=\"2.5\"/><desc class=\"value\">37</desc><desc class=\"x \">283.3459095732645</desc><desc class=\"y \">9.682284450008865</desc><desc class=\"x_label\">2017-10-01</desc></g><g class=\"dots\"><circle class=\"dot reactive tooltip-trigger\" cx=\"328.32145077537\" cy=\"55.067992809425334\" r=\"2.5\"/><desc class=\"value\">34</desc><desc class=\"x \">328.32145077537</desc><desc class=\"y \">55.067992809425334</desc><desc class=\"x_label\">2017-11-01</desc></g><g class=\"dots\"><circle class=\"dot reactive tooltip-trigger\" cx=\"373.29699197747544\" cy=\"176.09654843453586\" r=\"2.5\"/><desc class=\"value\">26</desc><desc class=\"x left\">373.29699197747544</desc><desc class=\"y left\">176.09654843453586</desc><desc class=\"x_label\">2017-12-01</desc></g><g class=\"dots\"><circle class=\"dot reactive tooltip-trigger\" cx=\"418.27253317958093\" cy=\"221.48225679395227\" r=\"2.5\"/><desc class=\"value\">23</desc><desc class=\"x left\">418.27253317958093</desc><desc class=\"y left\">221.48225679395227</desc><desc class=\"x_label\">2018-01-01</desc></g><g class=\"dots\"><circle class=\"dot reactive tooltip-trigger\" cx=\"463.24807438168637\" cy=\"342.51081241906286\" r=\"2.5\"/><desc class=\"value\">15</desc><desc class=\"x left top\">463.24807438168637</desc><desc class=\"y left top\">342.51081241906286</desc><desc class=\"x_label\">2018-02-01</desc></g><g class=\"dots\"><circle class=\"dot reactive tooltip-trigger\" cx=\"508.22361558379185\" cy=\"191.22511788767463\" r=\"2.5\"/><desc class=\"value\">25</desc><desc class=\"x left\">508.22361558379185</desc><desc class=\"y left\">191.22511788767463</desc><desc class=\"x_label\">2018-03-01</desc></g><g class=\"dots\"><circle class=\"dot reactive tooltip-trigger\" cx=\"553.1991567858975\" cy=\"206.3536873408135\" r=\"2.5\"/><desc class=\"value\">24</desc><desc class=\"x left\">553.1991567858975</desc><desc class=\"y left\">206.3536873408135</desc><desc class=\"x_label\">2018-04-01</desc></g><g class=\"dots\"><circle class=\"dot reactive tooltip-trigger\" cx=\"598.1746979880029\" cy=\"403.0250902316181\" r=\"2.5\"/><desc class=\"value\">11</desc><desc class=\"x left top\">598.1746979880029</desc><desc class=\"y left top\">403.0250902316181</desc><desc class=\"x_label\">2018-05-01</desc></g><g class=\"dots\"><circle class=\"dot reactive tooltip-trigger\" cx=\"643.1502391901083\" cy=\"418.1536596847569\" r=\"2.5\"/><desc class=\"value\">10</desc><desc class=\"x left top\">643.1502391901083</desc><desc class=\"y left top\">418.1536596847569</desc><desc class=\"x_label\">2018-06-01</desc></g><g class=\"dots\"><circle class=\"dot reactive tooltip-trigger\" cx=\"688.1257803922138\" cy=\"493.796506950451\" r=\"2.5\"/><desc class=\"value\">5</desc><desc class=\"x left top\">688.1257803922138</desc><desc class=\"y left top\">493.796506950451</desc><desc class=\"x_label\">2018-07-01</desc></g></g></g><g class=\"plot text-overlay\" transform=\"translate(42, 46)\"><g class=\"series serie-0 color-0\"><text class=\"value showable\" text-anchor=\"left\" x=\"43.49266236063164\" y=\"443.0250902316181\">11</text><text class=\"value showable\" text-anchor=\"left\" x=\"88.46820356273712\" y=\"367.382242965924\">16</text><text class=\"value showable\" text-anchor=\"left\" x=\"133.4437447648426\" y=\"140.45370116884175\">31</text><text class=\"value showable\" text-anchor=\"left\" x=\"178.41928596694805\" y=\"246.3536873408135\">24</text><text class=\"value showable\" text-anchor=\"left\" x=\"223.39482716905354\" y=\"246.3536873408135\">24</text><text class=\"value showable\" text-anchor=\"left\" x=\"268.370368371159\" y=\"155.58227062198057\">30</text><text class=\"value showable\" text-anchor=\"left\" x=\"313.3459095732645\" y=\"49.682284450008865\">37</text><text class=\"value showable\" text-anchor=\"left\" x=\"358.32145077537\" y=\"95.06799280942533\">34</text><text class=\"value showable\" text-anchor=\"left\" x=\"403.29699197747544\" y=\"216.09654843453586\">26</text><text class=\"value showable\" text-anchor=\"left\" x=\"448.27253317958093\" y=\"261.4822567939523\">23</text><text class=\"value showable\" text-anchor=\"left\" x=\"493.24807438168637\" y=\"382.51081241906286\">15</text><text class=\"value showable\" text-anchor=\"left\" x=\"538.2236155837918\" y=\"231.22511788767463\">25</text><text class=\"value showable\" text-anchor=\"left\" x=\"583.1991567858975\" y=\"246.3536873408135\">24</text><text class=\"value showable\" text-anchor=\"left\" x=\"628.1746979880029\" y=\"443.0250902316181\">11</text><text class=\"value showable\" text-anchor=\"left\" x=\"673.1502391901083\" y=\"458.1536596847569\">10</text><text class=\"value showable\" text-anchor=\"left\" x=\"718.1257803922138\" y=\"533.796506950451\">5</text></g></g><g class=\"plot tooltip-overlay\" transform=\"translate(42, 46)\"><g class=\"tooltip\" style=\"opacity: 0\" transform=\"translate(0 0)\"><rect class=\"tooltip-box\" height=\"0\" rx=\"0\" ry=\"0\" width=\"0\"/><g class=\"text\"/></g></g></g></svg>\n",
       "    </figure>\n",
       "  </body>\n",
       "</html>\n"
      ],
      "text/plain": [
       "<IPython.core.display.HTML object>"
      ]
     },
     "execution_count": 14,
     "metadata": {},
     "output_type": "execute_result"
    }
   ],
   "source": [
    "plot_monthly_sales(reviews_df)"
   ]
  },
  {
   "cell_type": "code",
   "execution_count": 30,
   "metadata": {},
   "outputs": [
    {
     "name": "stdout",
     "output_type": "stream",
     "text": [
      "[58072.4375]\n",
      "[140.21321654]\n",
      "[[ 1.00000000e+00 -1.62921517e+00  2.65434208e+00 -4.32449440e+00\n",
      "   7.04553190e+00 -1.14786875e+01  1.87012518e+01]\n",
      " [ 1.00000000e+00 -1.41525532e+00  2.00294761e+00 -2.83468225e+00\n",
      "   4.01179912e+00 -5.67772003e+00  8.03542345e+00]\n",
      " [ 1.00000000e+00 -1.19416346e+00  1.42602637e+00 -1.70290859e+00\n",
      "   2.03355122e+00 -2.42839256e+00  2.89989766e+00]\n",
      " [ 1.00000000e+00 -9.80203603e-01  9.60799103e-01 -9.41778742e-01\n",
      "   9.23134916e-01 -9.04860170e-01  8.86947199e-01]\n",
      " [ 1.00000000e+00 -7.59111749e-01  5.76250647e-01 -4.37438636e-01\n",
      "   3.32064808e-01 -2.52074297e-01  1.91352561e-01]\n",
      " [ 1.00000000e+00 -5.38019895e-01  2.89465407e-01 -1.55738148e-01\n",
      "   8.37902219e-02 -4.50808064e-02  2.42543707e-02]\n",
      " [ 1.00000000e+00 -3.24060036e-01  1.05014907e-01 -3.40311345e-02\n",
      "   1.10281307e-02 -3.57377642e-03  1.15811812e-03]\n",
      " [ 1.00000000e+00 -1.02968182e-01  1.06024465e-02 -1.09171464e-03\n",
      "   1.12411872e-04 -1.15748461e-05  1.19184086e-06]\n",
      " [ 1.00000000e+00  1.10991677e-01  1.23191523e-02  1.36732337e-03\n",
      "   1.51761513e-04  1.68442648e-05  1.86957320e-06]\n",
      " [ 1.00000000e+00  3.32083531e-01  1.10279471e-01  3.66219962e-02\n",
      "   1.21615618e-02  4.03865438e-03  1.34117061e-03]\n",
      " [ 1.00000000e+00  5.53175385e-01  3.06003006e-01  1.69273331e-01\n",
      "   9.36378398e-02  5.17981481e-02  2.86534605e-02]\n",
      " [ 1.00000000e+00  7.52871253e-01  5.66815123e-01  4.26738812e-01\n",
      "   3.21279384e-01  2.41882012e-01  1.82106014e-01]\n",
      " [ 1.00000000e+00  9.73963107e-01  9.48604133e-01  9.23905429e-01\n",
      "   8.99849802e-01  8.76420509e-01  8.53601242e-01]\n",
      " [ 1.00000000e+00  1.18792297e+00  1.41116097e+00  1.67635053e+00\n",
      "   1.99137529e+00  2.36560044e+00  2.81015109e+00]\n",
      " [ 1.00000000e+00  1.40901482e+00  1.98532276e+00  2.79734919e+00\n",
      "   3.94150647e+00  5.55364102e+00  7.82516250e+00]\n",
      " [ 1.00000000e+00  1.62297468e+00  2.63404681e+00  4.27499127e+00\n",
      "   6.93820258e+00  1.12605271e+01  1.82755503e+01]]\n",
      "[28.11117308]\n",
      "[[ 0.         -5.34078673 -3.69525204  0.46209832 -1.61241966  0.3143953\n",
      "   0.02830986]]\n"
     ]
    },
    {
     "data": {
      "text/plain": [
       "20.251261938363328"
      ]
     },
     "execution_count": 30,
     "metadata": {},
     "output_type": "execute_result"
    }
   ],
   "source": [
    "poly_degree = 6\n",
    "ridge_alpha = 0.5\n",
    "# scale first then polynomial\n",
    "def fit_poly_model_1(reviews_df, poly_degree, ridge_alpha):\n",
    "    reviews_df['year'] = reviews_df['review_posted_date'].apply(lambda reviews_df:reviews_df.year)\t\n",
    "    reviews_df['month'] = reviews_df['review_posted_date'].apply(lambda reviews_df:reviews_df.month)\n",
    "    # reviews_df.set_index(reviews_df['index_date_time'],inplace=True)\n",
    "    monthly_reviews = reviews_df.groupby(['year', 'month']).count().reset_index()\n",
    "    monthly_reviews['day'] = monthly_reviews['month'].apply(lambda monthly_reviews:1)\n",
    "    monthly_reviews_counts = monthly_reviews[['year','month', 'day', 'review_posted_date']].rename(columns={'review_posted_date': 'counts'})\n",
    "    monthly_reviews_counts['date'] = pd.to_datetime(monthly_reviews_counts[['year','month','day']])\n",
    "    monthly_reviews_counts['mjd'] = monthly_reviews_counts.apply(lambda monthly_reviews_counts: date_to_mjd(monthly_reviews_counts['year'], monthly_reviews_counts['month'], monthly_reviews_counts['day']), axis=1)\n",
    "    x_training = monthly_reviews_counts['mjd'].values.reshape(-1, 1)\n",
    "    x_training_scaled = preprocessing.scale(x_training)\n",
    "    scaler = preprocessing.StandardScaler().fit(x_training)\n",
    "    print(scaler.mean_)\n",
    "    print(scaler.scale_)\n",
    "    get_poly = PolynomialFeatures(poly_degree)\n",
    "    x_training_poly = get_poly.fit_transform(x_training_scaled)\n",
    "    print(x_training_poly)\n",
    "    y_training = monthly_reviews_counts['counts'].values.reshape(-1, 1)\n",
    "    model = Ridge(alpha=ridge_alpha)\n",
    "    model.fit(x_training_poly, y_training) \n",
    "    print(model.intercept_)\n",
    "    print(model.coef_)\n",
    "    y_predicted = model.predict(x_training_poly)\n",
    "    return mean_squared_error(y_training, y_predicted)\n",
    "fit_poly_model_1(reviews_df, poly_degree, ridge_alpha)"
   ]
  },
  {
   "cell_type": "code",
   "execution_count": 31,
   "metadata": {},
   "outputs": [
    {
     "name": "stdout",
     "output_type": "stream",
     "text": [
      "[1.00000000e+00 5.80724375e+04 3.37242766e+09 1.95847378e+14\n",
      " 1.13735335e+19 6.60504214e+23 3.83582076e+28 2.22763252e+33\n",
      " 1.29369329e+38 7.51314257e+42 4.36329390e+47 2.53401880e+52\n",
      " 1.47166083e+57 8.54689081e+61 4.96376384e+66 2.88281383e+71]\n",
      "[1.00000000e+00 1.40213217e+02 1.62849016e+07 1.41854984e+12\n",
      " 1.09838235e+17 7.97325736e+21 5.55637132e+26 3.76456061e+31\n",
      " 2.49852957e+36 1.63236502e+41 1.05331203e+46 6.72874411e+50\n",
      " 4.26293653e+55 2.68200311e+60 1.67739086e+65 1.04373397e+70]\n",
      "[[ 1.         -1.62921517 -1.62723249 -1.62525063 -1.62326961 -1.62128944\n",
      "  -1.61931012 -1.61733167 -1.6153541  -1.61337741 -1.61140161 -1.60942672\n",
      "  -1.60745273 -1.60547967 -1.60350753 -1.60153634]\n",
      " [ 1.         -1.41525532 -1.41405711 -1.41285784 -1.41165751 -1.41045613\n",
      "  -1.4092537  -1.40805025 -1.40684577 -1.40564027 -1.40443377 -1.40322627\n",
      "  -1.40201778 -1.40080832 -1.39959788 -1.39838649]\n",
      " [ 1.         -1.19416346 -1.19365977 -1.19315385 -1.19264569 -1.1921353\n",
      "  -1.19162269 -1.19110787 -1.19059085 -1.19007162 -1.1895502  -1.18902659\n",
      "  -1.1885008  -1.18797283 -1.1874427  -1.18691041]\n",
      " [ 1.         -0.9802036  -0.98025965 -0.98031297 -0.98036358 -0.98041147\n",
      "  -0.98045664 -0.9804991  -0.98053885 -0.98057589 -0.98061022 -0.98064186\n",
      "  -0.98067079 -0.98069703 -0.98072057 -0.98074143]\n",
      " [ 1.         -0.75911175 -0.75963007 -0.76014572 -0.76065869 -0.76116898\n",
      "  -0.76167658 -0.76218151 -0.76268375 -0.76318331 -0.76368018 -0.76417435\n",
      "  -0.76466584 -0.76515464 -0.76564074 -0.76612414]\n",
      " [ 1.         -0.53801989 -0.53888247 -0.53974284 -0.54060102 -0.54145698\n",
      "  -0.54231073 -0.54316227 -0.54401158 -0.54485865 -0.54570349 -0.54654609\n",
      "  -0.54738644 -0.54822454 -0.54906038 -0.54989395]\n",
      " [ 1.         -0.32406004 -0.32514338 -0.32622528 -0.32730574 -0.32838473\n",
      "  -0.32946226 -0.33053832 -0.33161289 -0.33268597 -0.33375755 -0.33482762\n",
      "  -0.33589617 -0.3369632  -0.33802869 -0.33909264]\n",
      " [ 1.         -0.10296818 -0.10416354 -0.10535841 -0.1065528  -0.10774668\n",
      "  -0.10894005 -0.11013291 -0.11132523 -0.11251701 -0.11370824 -0.11489891\n",
      "  -0.11608901 -0.11727852 -0.11846744 -0.11965576]\n",
      " [ 1.          0.11099168  0.1098003   0.10860841  0.10741604  0.10622317\n",
      "   0.10502983  0.10383602  0.10264176  0.10144706  0.10025192  0.09905636\n",
      "   0.09786038  0.096664    0.09546723  0.09427008]\n",
      " [ 1.          0.33208353  0.33101238  0.32993977  0.32886571  0.32779021\n",
      "   0.32671327  0.32563491  0.32455513  0.32347394  0.32239136  0.32130738\n",
      "   0.32022202  0.31913529  0.3180472   0.31695775]\n",
      " [ 1.          0.55317538  0.55234249  0.55150737  0.55067003  0.54983048\n",
      "   0.54898872  0.54814476  0.54729861  0.54645026  0.54559974  0.54474703\n",
      "   0.54389216  0.54303512  0.54217592  0.54131456]\n",
      " [ 1.          0.75287125  0.752355    0.75183609  0.75131455  0.75079036\n",
      "   0.75026353  0.74973407  0.74920197  0.74866724  0.74812988  0.7475899\n",
      "   0.74704729  0.74650205  0.7459542   0.74540373]\n",
      " [ 1.          0.97396311  0.97390973  0.97385365  0.97379487  0.97373338\n",
      "   0.9736692   0.9736023   0.97353269  0.97346038  0.97338534  0.9733076\n",
      "   0.97322713  0.97314395  0.97305804  0.97296941]\n",
      " [ 1.          1.18792297  1.18842991  1.18893462  1.18943711  1.18993737\n",
      "   1.19043538  1.19093115  1.19142466  1.19191591  1.1924049   1.19289162\n",
      "   1.19337606  1.19385822  1.19433809  1.19481567]\n",
      " [ 1.          1.40901482  1.41021688  1.41141787  1.4126178   1.41381664\n",
      "   1.4150144   1.41621106  1.41740661  1.41860105  1.41979436  1.42098654\n",
      "   1.42217758  1.42336747  1.4245562   1.42574376]\n",
      " [ 1.          1.62297468  1.6249618   1.62694975  1.62893852  1.6309281\n",
      "   1.63291847  1.63490963  1.63690157  1.63889428  1.64088776  1.64288198\n",
      "   1.64487694  1.64687264  1.64886906  1.6508662 ]]\n",
      "[21.625]\n",
      "[[ 0.          1.40397836  1.17010707  0.93630925  0.70258637  0.46893992\n",
      "   0.23537134  0.00188213 -0.23152626 -0.46485237 -0.69809472 -0.93125185\n",
      "  -1.16432231 -1.39730463 -1.63019736 -1.86299904]]\n"
     ]
    },
    {
     "name": "stderr",
     "output_type": "stream",
     "text": [
      "C:\\ProgramData\\Anaconda3\\envs\\web_scraping_v1\\lib\\site-packages\\sklearn\\preprocessing\\data.py:164: UserWarning: Numerical issues were encountered when centering the data and might not be solved. Dataset may contain too large values. You may need to prescale your features.\n",
      "  warnings.warn(\"Numerical issues were encountered \"\n"
     ]
    },
    {
     "data": {
      "text/plain": [
       "68.8706950618056"
      ]
     },
     "execution_count": 31,
     "metadata": {},
     "output_type": "execute_result"
    }
   ],
   "source": [
    "poly_degree = 15\n",
    "ridge_alpha = 0.5\n",
    "# polynomial first then scale\n",
    "def fit_poly_model_2(reviews_df, poly_degree, ridge_alpha):\n",
    "    reviews_df['year'] = reviews_df['review_posted_date'].apply(lambda reviews_df:reviews_df.year)\t\n",
    "    reviews_df['month'] = reviews_df['review_posted_date'].apply(lambda reviews_df:reviews_df.month)\n",
    "    # reviews_df.set_index(reviews_df['index_date_time'],inplace=True)\n",
    "    monthly_reviews = reviews_df.groupby(['year', 'month']).count().reset_index()\n",
    "    monthly_reviews['day'] = monthly_reviews['month'].apply(lambda monthly_reviews:1)\n",
    "    monthly_reviews_counts = monthly_reviews[['year','month', 'day', 'review_posted_date']].rename(columns={'review_posted_date': 'counts'})\n",
    "    monthly_reviews_counts['date'] = pd.to_datetime(monthly_reviews_counts[['year','month','day']])\n",
    "    monthly_reviews_counts['mjd'] = monthly_reviews_counts.apply(lambda monthly_reviews_counts: date_to_mjd(monthly_reviews_counts['year'], monthly_reviews_counts['month'], monthly_reviews_counts['day']), axis=1)\n",
    "    x_training = monthly_reviews_counts['mjd'].values.reshape(-1, 1)\n",
    "    get_poly = PolynomialFeatures(poly_degree)\n",
    "    x_training_poly = get_poly.fit_transform(x_training)\n",
    "    x_training_scaled = preprocessing.scale(x_training_poly)\n",
    "    x_training_scaled[:,0] = 1\n",
    "    scaler = preprocessing.StandardScaler().fit(x_training_poly)\n",
    "    print(scaler.mean_)\n",
    "    print(scaler.scale_)\n",
    "    print(x_training_scaled)\n",
    "    y_training = monthly_reviews_counts['counts'].values.reshape(-1, 1)\n",
    "    model = Ridge(alpha=ridge_alpha)\n",
    "    model.fit(x_training_scaled, y_training) \n",
    "    print(model.intercept_)\n",
    "    print(model.coef_)\n",
    "    y_predicted = model.predict(x_training_scaled)\n",
    "    return mean_squared_error(y_training, y_predicted)\n",
    "fit_poly_model_2(reviews_df, poly_degree, ridge_alpha)"
   ]
  },
  {
   "cell_type": "markdown",
   "metadata": {},
   "source": [
    "## Conclusion: should scale feature first and populate feature using high degree polynomials"
   ]
  },
  {
   "cell_type": "code",
   "execution_count": 32,
   "metadata": {},
   "outputs": [],
   "source": [
    "def add_3_months(datetime_df):\n",
    "    for i in range(3):\n",
    "        last = len(datetime_df.index) - 1\n",
    "        if datetime_df.loc[last]['month'] == 12:\n",
    "            datetime_append = pd.DataFrame([[datetime_df.loc[last]['year']+1, 1, 1]], columns=['year', 'month', 'day'])\n",
    "        else:\n",
    "            datetime_append = pd.DataFrame([[datetime_df.loc[last]['year'], datetime_df.loc[last]['month'] + 1, 1]], columns=['year', 'month', 'day'])\n",
    "        datetime_df = datetime_df.append(datetime_append, ignore_index=True)\n",
    "    datetime_df['date'] = pd.to_datetime(datetime_df[['year','month','day']])\n",
    "    datetime_df['mjd'] = datetime_df.apply(lambda datetime_df: date_to_mjd(datetime_df['year'], datetime_df['month'], datetime_df['day']), axis=1)\n",
    "    return datetime_df"
   ]
  },
  {
   "cell_type": "code",
   "execution_count": 34,
   "metadata": {},
   "outputs": [],
   "source": [
    "def scale_features(input_feature_array, means, scales):\n",
    "    means[0] = 0\n",
    "    scales[0] = 1\n",
    "    for i, item in enumerate(input_feature_array):\n",
    "        input_feature_array[i] = (item - means) / scales\n",
    "    return input_feature_array"
   ]
  },
  {
   "cell_type": "code",
   "execution_count": 40,
   "metadata": {},
   "outputs": [
    {
     "name": "stdout",
     "output_type": "stream",
     "text": [
      "[58072.4375]\n",
      "[140.21321654]\n",
      "[[ 1.00000000e+00 -1.62921517e+00  2.65434208e+00 -4.32449440e+00\n",
      "   7.04553190e+00 -1.14786875e+01]\n",
      " [ 1.00000000e+00 -1.41525532e+00  2.00294761e+00 -2.83468225e+00\n",
      "   4.01179912e+00 -5.67772003e+00]\n",
      " [ 1.00000000e+00 -1.19416346e+00  1.42602637e+00 -1.70290859e+00\n",
      "   2.03355122e+00 -2.42839256e+00]\n",
      " [ 1.00000000e+00 -9.80203603e-01  9.60799103e-01 -9.41778742e-01\n",
      "   9.23134916e-01 -9.04860170e-01]\n",
      " [ 1.00000000e+00 -7.59111749e-01  5.76250647e-01 -4.37438636e-01\n",
      "   3.32064808e-01 -2.52074297e-01]\n",
      " [ 1.00000000e+00 -5.38019895e-01  2.89465407e-01 -1.55738148e-01\n",
      "   8.37902219e-02 -4.50808064e-02]\n",
      " [ 1.00000000e+00 -3.24060036e-01  1.05014907e-01 -3.40311345e-02\n",
      "   1.10281307e-02 -3.57377642e-03]\n",
      " [ 1.00000000e+00 -1.02968182e-01  1.06024465e-02 -1.09171464e-03\n",
      "   1.12411872e-04 -1.15748461e-05]\n",
      " [ 1.00000000e+00  1.10991677e-01  1.23191523e-02  1.36732337e-03\n",
      "   1.51761513e-04  1.68442648e-05]\n",
      " [ 1.00000000e+00  3.32083531e-01  1.10279471e-01  3.66219962e-02\n",
      "   1.21615618e-02  4.03865438e-03]\n",
      " [ 1.00000000e+00  5.53175385e-01  3.06003006e-01  1.69273331e-01\n",
      "   9.36378398e-02  5.17981481e-02]\n",
      " [ 1.00000000e+00  7.52871253e-01  5.66815123e-01  4.26738812e-01\n",
      "   3.21279384e-01  2.41882012e-01]\n",
      " [ 1.00000000e+00  9.73963107e-01  9.48604133e-01  9.23905429e-01\n",
      "   8.99849802e-01  8.76420509e-01]\n",
      " [ 1.00000000e+00  1.18792297e+00  1.41116097e+00  1.67635053e+00\n",
      "   1.99137529e+00  2.36560044e+00]\n",
      " [ 1.00000000e+00  1.40901482e+00  1.98532276e+00  2.79734919e+00\n",
      "   3.94150647e+00  5.55364102e+00]\n",
      " [ 1.00000000e+00  1.62297468e+00  2.63404681e+00  4.27499127e+00\n",
      "   6.93820258e+00  1.12605271e+01]]\n",
      "[28.10992269]\n",
      "[[ 0.         -5.34077617 -3.75376865  0.46291269 -1.51901396  0.31394235]]\n",
      "MSE:20.247490265658854\n"
     ]
    },
    {
     "data": {
      "text/html": [
       "\n",
       "<!DOCTYPE html>\n",
       "<html>\n",
       "  <head>\n",
       "  <script type=\"text/javascript\" src=\"http://kozea.github.com/pygal.js/javascripts/svg.jquery.js\"></script>\n",
       "  <script type=\"text/javascript\" src=\"http://kozea.github.com/pygal.js/javascripts/pygal-tooltips.js\"></script>\n",
       "    <!-- Bar Graph Demo -->\n",
       "  </head>\n",
       "  <body>\n",
       "    <figure width=\"150\" height=\"150\">\n",
       "      <?xml version='1.0' encoding='utf-8'?>\n",
       "<?xml-stylesheet href=\"https://fonts.googleapis.com/css?family=Raleway\"?><svg xmlns:xlink=\"http://www.w3.org/1999/xlink\" xmlns=\"http://www.w3.org/2000/svg\" id=\"chart-f2f48b7b-cc8a-4663-9650-b907f363af01\" class=\"pygal-chart\" viewBox=\"0 0 800 600\"><!--Generated with pygal 2.4.0 (lxml) ©Kozea 2012-2016 on 2018-07-27--><!--http://pygal.org--><!--http://github.com/Kozea/pygal--><defs><style type=\"text/css\">#chart-f2f48b7b-cc8a-4663-9650-b907f363af01{-webkit-user-select:none;-webkit-font-smoothing:antialiased;font-family:Consolas,\"Liberation Mono\",Menlo,Courier,monospace}#chart-f2f48b7b-cc8a-4663-9650-b907f363af01 .title{font-family:Consolas,\"Liberation Mono\",Menlo,Courier,monospace;font-size:16px}#chart-f2f48b7b-cc8a-4663-9650-b907f363af01 .legends .legend text{font-family:Consolas,\"Liberation Mono\",Menlo,Courier,monospace;font-size:14px}#chart-f2f48b7b-cc8a-4663-9650-b907f363af01 .axis text{font-family:Consolas,\"Liberation Mono\",Menlo,Courier,monospace;font-size:10px}#chart-f2f48b7b-cc8a-4663-9650-b907f363af01 .axis text.major{font-family:Consolas,\"Liberation Mono\",Menlo,Courier,monospace;font-size:10px}#chart-f2f48b7b-cc8a-4663-9650-b907f363af01 .text-overlay text.value{font-family:Raleway;font-size:30px}#chart-f2f48b7b-cc8a-4663-9650-b907f363af01 .text-overlay text.label{font-family:Consolas,\"Liberation Mono\",Menlo,Courier,monospace;font-size:10px}#chart-f2f48b7b-cc8a-4663-9650-b907f363af01 .tooltip{font-family:Consolas,\"Liberation Mono\",Menlo,Courier,monospace;font-size:14px}#chart-f2f48b7b-cc8a-4663-9650-b907f363af01 text.no_data{font-family:Consolas,\"Liberation Mono\",Menlo,Courier,monospace;font-size:64px}\n",
       "#chart-f2f48b7b-cc8a-4663-9650-b907f363af01{background-color:#073642}#chart-f2f48b7b-cc8a-4663-9650-b907f363af01 path,#chart-f2f48b7b-cc8a-4663-9650-b907f363af01 line,#chart-f2f48b7b-cc8a-4663-9650-b907f363af01 rect,#chart-f2f48b7b-cc8a-4663-9650-b907f363af01 circle{-webkit-transition:500ms ease-in;-moz-transition:500ms ease-in;transition:500ms ease-in}#chart-f2f48b7b-cc8a-4663-9650-b907f363af01 .graph &gt; .background{fill:#073642}#chart-f2f48b7b-cc8a-4663-9650-b907f363af01 .plot &gt; .background{fill:#002b36}#chart-f2f48b7b-cc8a-4663-9650-b907f363af01 .graph{fill:#839496}#chart-f2f48b7b-cc8a-4663-9650-b907f363af01 text.no_data{fill:#fdf6e3}#chart-f2f48b7b-cc8a-4663-9650-b907f363af01 .title{fill:#fdf6e3}#chart-f2f48b7b-cc8a-4663-9650-b907f363af01 .legends .legend text{fill:#839496}#chart-f2f48b7b-cc8a-4663-9650-b907f363af01 .legends .legend:hover text{fill:#fdf6e3}#chart-f2f48b7b-cc8a-4663-9650-b907f363af01 .axis .line{stroke:#fdf6e3}#chart-f2f48b7b-cc8a-4663-9650-b907f363af01 .axis .guide.line{stroke:#657b83}#chart-f2f48b7b-cc8a-4663-9650-b907f363af01 .axis .major.line{stroke:#839496}#chart-f2f48b7b-cc8a-4663-9650-b907f363af01 .axis text.major{fill:#fdf6e3}#chart-f2f48b7b-cc8a-4663-9650-b907f363af01 .axis.y .guides:hover .guide.line,#chart-f2f48b7b-cc8a-4663-9650-b907f363af01 .line-graph .axis.x .guides:hover .guide.line,#chart-f2f48b7b-cc8a-4663-9650-b907f363af01 .stackedline-graph .axis.x .guides:hover .guide.line,#chart-f2f48b7b-cc8a-4663-9650-b907f363af01 .xy-graph .axis.x .guides:hover .guide.line{stroke:#fdf6e3}#chart-f2f48b7b-cc8a-4663-9650-b907f363af01 .axis .guides:hover text{fill:#fdf6e3}#chart-f2f48b7b-cc8a-4663-9650-b907f363af01 .reactive{fill-opacity:.66;stroke-opacity:.8}#chart-f2f48b7b-cc8a-4663-9650-b907f363af01 .ci{stroke:#839496}#chart-f2f48b7b-cc8a-4663-9650-b907f363af01 .reactive.active,#chart-f2f48b7b-cc8a-4663-9650-b907f363af01 .active .reactive{fill-opacity:.9;stroke-opacity:.9;stroke-width:4}#chart-f2f48b7b-cc8a-4663-9650-b907f363af01 .ci .reactive.active{stroke-width:1.5}#chart-f2f48b7b-cc8a-4663-9650-b907f363af01 .series text{fill:#fdf6e3}#chart-f2f48b7b-cc8a-4663-9650-b907f363af01 .tooltip rect{fill:#002b36;stroke:#fdf6e3;-webkit-transition:opacity 500ms ease-in;-moz-transition:opacity 500ms ease-in;transition:opacity 500ms ease-in}#chart-f2f48b7b-cc8a-4663-9650-b907f363af01 .tooltip .label{fill:#839496}#chart-f2f48b7b-cc8a-4663-9650-b907f363af01 .tooltip .label{fill:#839496}#chart-f2f48b7b-cc8a-4663-9650-b907f363af01 .tooltip .legend{font-size:.8em;fill:#657b83}#chart-f2f48b7b-cc8a-4663-9650-b907f363af01 .tooltip .x_label{font-size:.6em;fill:#fdf6e3}#chart-f2f48b7b-cc8a-4663-9650-b907f363af01 .tooltip .xlink{font-size:.5em;text-decoration:underline}#chart-f2f48b7b-cc8a-4663-9650-b907f363af01 .tooltip .value{font-size:1.5em}#chart-f2f48b7b-cc8a-4663-9650-b907f363af01 .bound{font-size:.5em}#chart-f2f48b7b-cc8a-4663-9650-b907f363af01 .max-value{font-size:.75em;fill:#657b83}#chart-f2f48b7b-cc8a-4663-9650-b907f363af01 .map-element{fill:#002b36;stroke:#657b83 !important}#chart-f2f48b7b-cc8a-4663-9650-b907f363af01 .map-element .reactive{fill-opacity:inherit;stroke-opacity:inherit}#chart-f2f48b7b-cc8a-4663-9650-b907f363af01 .color-0,#chart-f2f48b7b-cc8a-4663-9650-b907f363af01 .color-0 a:visited{stroke:#b58900;fill:#b58900}#chart-f2f48b7b-cc8a-4663-9650-b907f363af01 .text-overlay .color-0 text{fill:white}\n",
       "#chart-f2f48b7b-cc8a-4663-9650-b907f363af01 text.no_data{text-anchor:middle}#chart-f2f48b7b-cc8a-4663-9650-b907f363af01 .guide.line{fill:none}#chart-f2f48b7b-cc8a-4663-9650-b907f363af01 .centered{text-anchor:middle}#chart-f2f48b7b-cc8a-4663-9650-b907f363af01 .title{text-anchor:middle}#chart-f2f48b7b-cc8a-4663-9650-b907f363af01 .legends .legend text{fill-opacity:1}#chart-f2f48b7b-cc8a-4663-9650-b907f363af01 .axis.x text{text-anchor:middle}#chart-f2f48b7b-cc8a-4663-9650-b907f363af01 .axis.x:not(.web) text[transform]{text-anchor:start}#chart-f2f48b7b-cc8a-4663-9650-b907f363af01 .axis.x:not(.web) text[transform].backwards{text-anchor:end}#chart-f2f48b7b-cc8a-4663-9650-b907f363af01 .axis.y text{text-anchor:end}#chart-f2f48b7b-cc8a-4663-9650-b907f363af01 .axis.y text[transform].backwards{text-anchor:start}#chart-f2f48b7b-cc8a-4663-9650-b907f363af01 .axis.y2 text{text-anchor:start}#chart-f2f48b7b-cc8a-4663-9650-b907f363af01 .axis.y2 text[transform].backwards{text-anchor:end}#chart-f2f48b7b-cc8a-4663-9650-b907f363af01 .axis .guide.line{stroke-dasharray:4,4}#chart-f2f48b7b-cc8a-4663-9650-b907f363af01 .axis .major.guide.line{stroke-dasharray:6,6}#chart-f2f48b7b-cc8a-4663-9650-b907f363af01 .horizontal .axis.y .guide.line,#chart-f2f48b7b-cc8a-4663-9650-b907f363af01 .horizontal .axis.y2 .guide.line,#chart-f2f48b7b-cc8a-4663-9650-b907f363af01 .vertical .axis.x .guide.line{opacity:0}#chart-f2f48b7b-cc8a-4663-9650-b907f363af01 .horizontal .axis.always_show .guide.line,#chart-f2f48b7b-cc8a-4663-9650-b907f363af01 .vertical .axis.always_show .guide.line{opacity:1 !important}#chart-f2f48b7b-cc8a-4663-9650-b907f363af01 .axis.y .guides:hover .guide.line,#chart-f2f48b7b-cc8a-4663-9650-b907f363af01 .axis.y2 .guides:hover .guide.line,#chart-f2f48b7b-cc8a-4663-9650-b907f363af01 .axis.x .guides:hover .guide.line{opacity:1}#chart-f2f48b7b-cc8a-4663-9650-b907f363af01 .axis .guides:hover text{opacity:1}#chart-f2f48b7b-cc8a-4663-9650-b907f363af01 .nofill{fill:none}#chart-f2f48b7b-cc8a-4663-9650-b907f363af01 .subtle-fill{fill-opacity:.2}#chart-f2f48b7b-cc8a-4663-9650-b907f363af01 .dot{stroke-width:1px;fill-opacity:1}#chart-f2f48b7b-cc8a-4663-9650-b907f363af01 .dot.active{stroke-width:5px}#chart-f2f48b7b-cc8a-4663-9650-b907f363af01 .dot.negative{fill:transparent}#chart-f2f48b7b-cc8a-4663-9650-b907f363af01 text,#chart-f2f48b7b-cc8a-4663-9650-b907f363af01 tspan{stroke:none !important}#chart-f2f48b7b-cc8a-4663-9650-b907f363af01 .series text.active{opacity:1}#chart-f2f48b7b-cc8a-4663-9650-b907f363af01 .tooltip rect{fill-opacity:.95;stroke-width:.5}#chart-f2f48b7b-cc8a-4663-9650-b907f363af01 .tooltip text{fill-opacity:1}#chart-f2f48b7b-cc8a-4663-9650-b907f363af01 .showable{visibility:hidden}#chart-f2f48b7b-cc8a-4663-9650-b907f363af01 .showable.shown{visibility:visible}#chart-f2f48b7b-cc8a-4663-9650-b907f363af01 .gauge-background{fill:rgba(229,229,229,1);stroke:none}#chart-f2f48b7b-cc8a-4663-9650-b907f363af01 .bg-lines{stroke:#073642;stroke-width:2px}</style><script type=\"text/javascript\">window.pygal = window.pygal || {};window.pygal.config = window.pygal.config || {};window.pygal.config['f2f48b7b-cc8a-4663-9650-b907f363af01'] = {\"allow_interruptions\": false, \"box_mode\": \"extremes\", \"classes\": [\"pygal-chart\"], \"css\": [\"file://style.css\", \"file://graph.css\"], \"defs\": [], \"disable_xml_declaration\": false, \"dots_size\": 2.5, \"dynamic_print_values\": true, \"explicit_size\": false, \"fill\": false, \"force_uri_protocol\": \"https\", \"formatter\": null, \"half_pie\": false, \"height\": 600, \"include_x_axis\": false, \"inner_radius\": 0, \"interpolate\": null, \"interpolation_parameters\": {}, \"interpolation_precision\": 250, \"inverse_y_axis\": false, \"js\": [\"//kozea.github.io/pygal.js/2.0.x/pygal-tooltips.min.js\"], \"legend_at_bottom\": false, \"legend_at_bottom_columns\": null, \"legend_box_size\": 12, \"logarithmic\": false, \"margin\": 20, \"margin_bottom\": null, \"margin_left\": null, \"margin_right\": null, \"margin_top\": null, \"max_scale\": 16, \"min_scale\": 4, \"missing_value_fill_truncation\": \"x\", \"no_data_text\": \"No data\", \"no_prefix\": false, \"order_min\": null, \"pretty_print\": false, \"print_labels\": false, \"print_values\": false, \"print_values_position\": \"center\", \"print_zeroes\": true, \"range\": null, \"rounded_bars\": null, \"secondary_range\": null, \"show_dots\": true, \"show_legend\": false, \"show_minor_x_labels\": true, \"show_minor_y_labels\": true, \"show_only_major_dots\": false, \"show_x_guides\": false, \"show_x_labels\": true, \"show_y_guides\": true, \"show_y_labels\": true, \"spacing\": 10, \"stack_from_top\": false, \"strict\": false, \"stroke\": true, \"stroke_style\": null, \"style\": {\"background\": \"#073642\", \"ci_colors\": [], \"colors\": [\"#b58900\", \"#cb4b16\", \"#dc322f\", \"#d33682\", \"#6c71c4\", \"#268bd2\", \"#2aa198\", \"#859900\"], \"font_family\": \"Consolas, \\\"Liberation Mono\\\", Menlo, Courier, monospace\", \"foreground\": \"#839496\", \"foreground_strong\": \"#fdf6e3\", \"foreground_subtle\": \"#657b83\", \"guide_stroke_dasharray\": \"4,4\", \"label_font_family\": \"Consolas, \\\"Liberation Mono\\\", Menlo, Courier, monospace\", \"label_font_size\": 10, \"legend_font_family\": \"Consolas, \\\"Liberation Mono\\\", Menlo, Courier, monospace\", \"legend_font_size\": 14, \"major_guide_stroke_dasharray\": \"6,6\", \"major_label_font_family\": \"Consolas, \\\"Liberation Mono\\\", Menlo, Courier, monospace\", \"major_label_font_size\": 10, \"no_data_font_family\": \"Consolas, \\\"Liberation Mono\\\", Menlo, Courier, monospace\", \"no_data_font_size\": 64, \"opacity\": \".66\", \"opacity_hover\": \".9\", \"plot_background\": \"#002b36\", \"stroke_opacity\": \".8\", \"stroke_opacity_hover\": \".9\", \"title_font_family\": \"Consolas, \\\"Liberation Mono\\\", Menlo, Courier, monospace\", \"title_font_size\": 16, \"tooltip_font_family\": \"Consolas, \\\"Liberation Mono\\\", Menlo, Courier, monospace\", \"tooltip_font_size\": 14, \"transition\": \"500ms ease-in\", \"value_background\": \"rgba(229, 229, 229, 1)\", \"value_colors\": [\"white\"], \"value_font_family\": \"Raleway\", \"value_font_size\": 30, \"value_label_font_family\": \"Consolas, \\\"Liberation Mono\\\", Menlo, Courier, monospace\", \"value_label_font_size\": 10}, \"title\": \"Monthly Sales Prediction Using Polynomial Regression\", \"tooltip_border_radius\": 0, \"tooltip_fancy_mode\": true, \"truncate_label\": null, \"truncate_legend\": null, \"width\": 800, \"x_label_rotation\": 20, \"x_labels\": [\"2017-04-01\", \"2017-05-01\", \"2017-06-01\", \"2017-07-01\", \"2017-08-01\", \"2017-09-01\", \"2017-10-01\", \"2017-11-01\", \"2017-12-01\", \"2018-01-01\", \"2018-02-01\", \"2018-03-01\", \"2018-04-01\", \"2018-05-01\", \"2018-06-01\", \"2018-07-01\"], \"x_labels_major\": null, \"x_labels_major_count\": null, \"x_labels_major_every\": null, \"x_title\": null, \"xrange\": null, \"y_label_rotation\": 0, \"y_labels\": null, \"y_labels_major\": null, \"y_labels_major_count\": null, \"y_labels_major_every\": null, \"y_title\": null, \"zero\": 0, \"legends\": [\"Sales\"]}</script><script type=\"text/javascript\" xlink:href=\"https://kozea.github.io/pygal.js/2.0.x/pygal-tooltips.min.js\"/></defs><title>Monthly Sales Prediction Using Polynomial Regression</title><g class=\"graph line-graph vertical\"><rect class=\"background\" height=\"600\" width=\"800\" x=\"0\" y=\"0\"/><g class=\"plot\" transform=\"translate(42, 46)\"><rect class=\"background\" height=\"503.47879140045984\" width=\"701.6184427528455\" x=\"0\" y=\"0\"/><g class=\"axis y always_show\"><path class=\"line\" d=\"M0.000000 503.478791 h701.618443\"/><g class=\"guides\"><path class=\"guide line\" d=\"M0.000000 465.490500 h701.618443\"/><text class=\"\" x=\"-5\" y=\"[468.99050018]\">6</text><title>6</title></g><g class=\"guides\"><path class=\"guide line\" d=\"M0.000000 426.998477 h701.618443\"/><text class=\"\" x=\"-5\" y=\"[430.49847714]\">8</text><title>8</title></g><g class=\"guides\"><path class=\"major guide line\" d=\"M0.000000 388.506454 h701.618443\"/><text class=\"major\" x=\"-5\" y=\"[392.0064541]\">10</text><title>10</title></g><g class=\"guides\"><path class=\"guide line\" d=\"M0.000000 350.014431 h701.618443\"/><text class=\"\" x=\"-5\" y=\"[353.51443106]\">12</text><title>12</title></g><g class=\"guides\"><path class=\"guide line\" d=\"M0.000000 311.522408 h701.618443\"/><text class=\"\" x=\"-5\" y=\"[315.02240802]\">14</text><title>14</title></g><g class=\"guides\"><path class=\"guide line\" d=\"M0.000000 273.030385 h701.618443\"/><text class=\"\" x=\"-5\" y=\"[276.53038498]\">16</text><title>16</title></g><g class=\"guides\"><path class=\"guide line\" d=\"M0.000000 234.538362 h701.618443\"/><text class=\"\" x=\"-5\" y=\"[238.03836194]\">18</text><title>18</title></g><g class=\"guides\"><path class=\"major guide line\" d=\"M0.000000 196.046339 h701.618443\"/><text class=\"major\" x=\"-5\" y=\"[199.5463389]\">20</text><title>20</title></g><g class=\"guides\"><path class=\"guide line\" d=\"M0.000000 157.554316 h701.618443\"/><text class=\"\" x=\"-5\" y=\"[161.05431586]\">22</text><title>22</title></g><g class=\"guides\"><path class=\"guide line\" d=\"M0.000000 119.062293 h701.618443\"/><text class=\"\" x=\"-5\" y=\"[122.56229282]\">24</text><title>24</title></g><g class=\"guides\"><path class=\"guide line\" d=\"M0.000000 80.570270 h701.618443\"/><text class=\"\" x=\"-5\" y=\"[84.07026978]\">26</text><title>26</title></g><g class=\"guides\"><path class=\"guide line\" d=\"M0.000000 42.078247 h701.618443\"/><text class=\"\" x=\"-5\" y=\"[45.57824674]\">28</text><title>28</title></g></g><g class=\"axis x\"><g class=\"guides\"><path class=\"line\" d=\"M13.492662 0.000000 v503.478791\"/><text class=\"\" x=\"13.492662360631643\" y=\"518.4787914004598\" transform=\"rotate(20 13.492662 518.478791)\">2017-04-01</text></g><g class=\"guides\"><path class=\"guide line\" d=\"M58.468204 0.000000 v503.478791\"/><text class=\"\" x=\"58.468203562737116\" y=\"518.4787914004598\" transform=\"rotate(20 58.468204 518.478791)\">2017-05-01</text></g><g class=\"guides\"><path class=\"guide line\" d=\"M103.443745 0.000000 v503.478791\"/><text class=\"\" x=\"103.44374476484259\" y=\"518.4787914004598\" transform=\"rotate(20 103.443745 518.478791)\">2017-06-01</text></g><g class=\"guides\"><path class=\"guide line\" d=\"M148.419286 0.000000 v503.478791\"/><text class=\"\" x=\"148.41928596694805\" y=\"518.4787914004598\" transform=\"rotate(20 148.419286 518.478791)\">2017-07-01</text></g><g class=\"guides\"><path class=\"guide line\" d=\"M193.394827 0.000000 v503.478791\"/><text class=\"\" x=\"193.39482716905354\" y=\"518.4787914004598\" transform=\"rotate(20 193.394827 518.478791)\">2017-08-01</text></g><g class=\"guides\"><path class=\"guide line\" d=\"M238.370368 0.000000 v503.478791\"/><text class=\"\" x=\"238.370368371159\" y=\"518.4787914004598\" transform=\"rotate(20 238.370368 518.478791)\">2017-09-01</text></g><g class=\"guides\"><path class=\"guide line\" d=\"M283.345910 0.000000 v503.478791\"/><text class=\"\" x=\"283.3459095732645\" y=\"518.4787914004598\" transform=\"rotate(20 283.345910 518.478791)\">2017-10-01</text></g><g class=\"guides\"><path class=\"guide line\" d=\"M328.321451 0.000000 v503.478791\"/><text class=\"\" x=\"328.32145077537\" y=\"518.4787914004598\" transform=\"rotate(20 328.321451 518.478791)\">2017-11-01</text></g><g class=\"guides\"><path class=\"guide line\" d=\"M373.296992 0.000000 v503.478791\"/><text class=\"\" x=\"373.29699197747544\" y=\"518.4787914004598\" transform=\"rotate(20 373.296992 518.478791)\">2017-12-01</text></g><g class=\"guides\"><path class=\"guide line\" d=\"M418.272533 0.000000 v503.478791\"/><text class=\"\" x=\"418.27253317958093\" y=\"518.4787914004598\" transform=\"rotate(20 418.272533 518.478791)\">2018-01-01</text></g><g class=\"guides\"><path class=\"guide line\" d=\"M463.248074 0.000000 v503.478791\"/><text class=\"\" x=\"463.24807438168637\" y=\"518.4787914004598\" transform=\"rotate(20 463.248074 518.478791)\">2018-02-01</text></g><g class=\"guides\"><path class=\"guide line\" d=\"M508.223616 0.000000 v503.478791\"/><text class=\"\" x=\"508.22361558379185\" y=\"518.4787914004598\" transform=\"rotate(20 508.223616 518.478791)\">2018-03-01</text></g><g class=\"guides\"><path class=\"guide line\" d=\"M553.199157 0.000000 v503.478791\"/><text class=\"\" x=\"553.1991567858975\" y=\"518.4787914004598\" transform=\"rotate(20 553.199157 518.478791)\">2018-04-01</text></g><g class=\"guides\"><path class=\"guide line\" d=\"M598.174698 0.000000 v503.478791\"/><text class=\"\" x=\"598.1746979880029\" y=\"518.4787914004598\" transform=\"rotate(20 598.174698 518.478791)\">2018-05-01</text></g><g class=\"guides\"><path class=\"guide line\" d=\"M643.150239 0.000000 v503.478791\"/><text class=\"\" x=\"643.1502391901083\" y=\"518.4787914004598\" transform=\"rotate(20 643.150239 518.478791)\">2018-06-01</text></g><g class=\"guides\"><path class=\"guide line\" d=\"M688.125780 0.000000 v503.478791\"/><text class=\"\" x=\"688.1257803922138\" y=\"518.4787914004598\" transform=\"rotate(20 688.125780 518.478791)\">2018-07-01</text></g></g><g class=\"series serie-0 color-0\"><path class=\"line reactive nofill\" d=\"M13.492662 378.120549 L58.468204 216.038777 103.443745 109.534682 148.419286 49.467501 193.394827 18.694088 238.370368 0.000000 283.345910 14.886984 328.321451 30.157771 373.296992 52.253508 418.272533 82.069104 463.248074 119.846462 508.223616 162.428081 553.199157 221.387333 598.174698 293.006601 643.150239 384.974892 688.125780 503.478791\"/></g></g><g class=\"titles\"><text class=\"title plot_title\" x=\"400.0\" y=\"26\">Monthly Sales Prediction Using Polynomial Regression</text></g><g class=\"plot overlay\" transform=\"translate(42, 46)\"><g class=\"series serie-0 color-0\"><g class=\"dots\"><circle class=\"dot reactive tooltip-trigger\" cx=\"13.492662360631643\" cy=\"[378.12054858]\" r=\"2.5\"/><desc class=\"value\">[10.53963937]</desc><desc class=\"x top\">13.492662360631643</desc><desc class=\"y top\">[378.12054858]</desc><desc class=\"x_label\">2017-04-01</desc></g><g class=\"dots\"><circle class=\"dot reactive tooltip-trigger\" cx=\"58.468203562737116\" cy=\"[216.03877669]\" r=\"2.5\"/><desc class=\"value\">[18.96121657]</desc><desc class=\"x \">58.468203562737116</desc><desc class=\"y \">[216.03877669]</desc><desc class=\"x_label\">2017-05-01</desc></g><g class=\"dots\"><circle class=\"dot reactive tooltip-trigger\" cx=\"103.44374476484259\" cy=\"[109.53468189]\" r=\"2.5\"/><desc class=\"value\">[24.4950434]</desc><desc class=\"x \">103.44374476484259</desc><desc class=\"y \">[109.53468189]</desc><desc class=\"x_label\">2017-06-01</desc></g><g class=\"dots\"><circle class=\"dot reactive tooltip-trigger\" cx=\"148.41928596694805\" cy=\"[49.46750092]\" r=\"2.5\"/><desc class=\"value\">[27.61606309]</desc><desc class=\"x \">148.41928596694805</desc><desc class=\"y \">[49.46750092]</desc><desc class=\"x_label\">2017-07-01</desc></g><g class=\"dots\"><circle class=\"dot reactive tooltip-trigger\" cx=\"193.39482716905354\" cy=\"[18.694088]\" r=\"2.5\"/><desc class=\"value\">[29.21501324]</desc><desc class=\"x \">193.39482716905354</desc><desc class=\"y \">[18.694088]</desc><desc class=\"x_label\">2017-08-01</desc></g><g class=\"dots\"><circle class=\"dot reactive tooltip-trigger\" cx=\"238.370368371159\" cy=\"[0.]\" r=\"2.5\"/><desc class=\"value\">[30.18633594]</desc><desc class=\"x \">238.370368371159</desc><desc class=\"y \">[0.]</desc><desc class=\"x_label\">2017-09-01</desc></g><g class=\"dots\"><circle class=\"dot reactive tooltip-trigger\" cx=\"283.3459095732645\" cy=\"[14.88698413]\" r=\"2.5\"/><desc class=\"value\">[29.41282585]</desc><desc class=\"x \">283.3459095732645</desc><desc class=\"y \">[14.88698413]</desc><desc class=\"x_label\">2017-10-01</desc></g><g class=\"dots\"><circle class=\"dot reactive tooltip-trigger\" cx=\"328.32145077537\" cy=\"[30.15777121]\" r=\"2.5\"/><desc class=\"value\">[28.61937381]</desc><desc class=\"x \">328.32145077537</desc><desc class=\"y \">[30.15777121]</desc><desc class=\"x_label\">2017-11-01</desc></g><g class=\"dots\"><circle class=\"dot reactive tooltip-trigger\" cx=\"373.29699197747544\" cy=\"[52.25350812]\" r=\"2.5\"/><desc class=\"value\">[27.47130545]</desc><desc class=\"x left\">373.29699197747544</desc><desc class=\"y left\">[52.25350812]</desc><desc class=\"x_label\">2017-12-01</desc></g><g class=\"dots\"><circle class=\"dot reactive tooltip-trigger\" cx=\"418.27253317958093\" cy=\"[82.06910356]\" r=\"2.5\"/><desc class=\"value\">[25.92212237]</desc><desc class=\"x left\">418.27253317958093</desc><desc class=\"y left\">[82.06910356]</desc><desc class=\"x_label\">2018-01-01</desc></g><g class=\"dots\"><circle class=\"dot reactive tooltip-trigger\" cx=\"463.24807438168637\" cy=\"[119.84646185]\" r=\"2.5\"/><desc class=\"value\">[23.9592555]</desc><desc class=\"x left\">463.24807438168637</desc><desc class=\"y left\">[119.84646185]</desc><desc class=\"x_label\">2018-02-01</desc></g><g class=\"dots\"><circle class=\"dot reactive tooltip-trigger\" cx=\"508.22361558379185\" cy=\"[162.42808053]\" r=\"2.5\"/><desc class=\"value\">[21.74676495]</desc><desc class=\"x left\">508.22361558379185</desc><desc class=\"y left\">[162.42808053]</desc><desc class=\"x_label\">2018-03-01</desc></g><g class=\"dots\"><circle class=\"dot reactive tooltip-trigger\" cx=\"553.1991567858975\" cy=\"[221.3873327]\" r=\"2.5\"/><desc class=\"value\">[18.68331193]</desc><desc class=\"x left\">553.1991567858975</desc><desc class=\"y left\">[221.3873327]</desc><desc class=\"x_label\">2018-04-01</desc></g><g class=\"dots\"><circle class=\"dot reactive tooltip-trigger\" cx=\"598.1746979880029\" cy=\"[293.00660111]\" r=\"2.5\"/><desc class=\"value\">[14.96205943]</desc><desc class=\"x left top\">598.1746979880029</desc><desc class=\"y left top\">[293.00660111]</desc><desc class=\"x_label\">2018-05-01</desc></g><g class=\"dots\"><circle class=\"dot reactive tooltip-trigger\" cx=\"643.1502391901083\" cy=\"[384.9748922]\" r=\"2.5\"/><desc class=\"value\">[10.18349578]</desc><desc class=\"x left top\">643.1502391901083</desc><desc class=\"y left top\">[384.9748922]</desc><desc class=\"x_label\">2018-06-01</desc></g><g class=\"dots\"><circle class=\"dot reactive tooltip-trigger\" cx=\"688.1257803922138\" cy=\"[503.4787914]\" r=\"2.5\"/><desc class=\"value\">[4.02617331]</desc><desc class=\"x left top\">688.1257803922138</desc><desc class=\"y left top\">[503.4787914]</desc><desc class=\"x_label\">2018-07-01</desc></g></g></g><g class=\"plot text-overlay\" transform=\"translate(42, 46)\"><g class=\"series serie-0 color-0\"><text class=\"value showable\" text-anchor=\"left\" x=\"43.49266236063164\" y=\"[418.12054858]\">[10.53963937]</text><text class=\"value showable\" text-anchor=\"left\" x=\"88.46820356273712\" y=\"[256.03877669]\">[18.96121657]</text><text class=\"value showable\" text-anchor=\"left\" x=\"133.4437447648426\" y=\"[149.53468189]\">[24.4950434]</text><text class=\"value showable\" text-anchor=\"left\" x=\"178.41928596694805\" y=\"[89.46750092]\">[27.61606309]</text><text class=\"value showable\" text-anchor=\"left\" x=\"223.39482716905354\" y=\"[58.694088]\">[29.21501324]</text><text class=\"value showable\" text-anchor=\"left\" x=\"268.370368371159\" y=\"[40.]\">[30.18633594]</text><text class=\"value showable\" text-anchor=\"left\" x=\"313.3459095732645\" y=\"[54.88698413]\">[29.41282585]</text><text class=\"value showable\" text-anchor=\"left\" x=\"358.32145077537\" y=\"[70.15777121]\">[28.61937381]</text><text class=\"value showable\" text-anchor=\"left\" x=\"403.29699197747544\" y=\"[92.25350812]\">[27.47130545]</text><text class=\"value showable\" text-anchor=\"left\" x=\"448.27253317958093\" y=\"[122.06910356]\">[25.92212237]</text><text class=\"value showable\" text-anchor=\"left\" x=\"493.24807438168637\" y=\"[159.84646185]\">[23.9592555]</text><text class=\"value showable\" text-anchor=\"left\" x=\"538.2236155837918\" y=\"[202.42808053]\">[21.74676495]</text><text class=\"value showable\" text-anchor=\"left\" x=\"583.1991567858975\" y=\"[261.3873327]\">[18.68331193]</text><text class=\"value showable\" text-anchor=\"left\" x=\"628.1746979880029\" y=\"[333.00660111]\">[14.96205943]</text><text class=\"value showable\" text-anchor=\"left\" x=\"673.1502391901083\" y=\"[424.9748922]\">[10.18349578]</text><text class=\"value showable\" text-anchor=\"left\" x=\"718.1257803922138\" y=\"[543.4787914]\">[4.02617331]</text></g></g><g class=\"plot tooltip-overlay\" transform=\"translate(42, 46)\"><g class=\"tooltip\" style=\"opacity: 0\" transform=\"translate(0 0)\"><rect class=\"tooltip-box\" height=\"0\" rx=\"0\" ry=\"0\" width=\"0\"/><g class=\"text\"/></g></g></g></svg>\n",
       "    </figure>\n",
       "  </body>\n",
       "</html>\n"
      ],
      "text/plain": [
       "<IPython.core.display.HTML object>"
      ]
     },
     "execution_count": 40,
     "metadata": {},
     "output_type": "execute_result"
    }
   ],
   "source": [
    "poly_degree = 5\n",
    "ridge_alpha = 0.5\n",
    "def predict_poly_model(reviews_df, poly_degree, ridge_alpha):\n",
    "    reviews_df['year'] = reviews_df['review_posted_date'].apply(lambda reviews_df:reviews_df.year)\t\n",
    "    reviews_df['month'] = reviews_df['review_posted_date'].apply(lambda reviews_df:reviews_df.month)\n",
    "    # reviews_df.set_index(reviews_df['index_date_time'],inplace=True)\n",
    "    monthly_reviews = reviews_df.groupby(['year', 'month']).count().reset_index()\n",
    "    monthly_reviews['day'] = monthly_reviews['month'].apply(lambda monthly_reviews:1)\n",
    "    monthly_reviews_counts = monthly_reviews[['year','month', 'day', 'review_posted_date']].rename(columns={'review_posted_date': 'counts'})\n",
    "    monthly_reviews_counts['date'] = pd.to_datetime(monthly_reviews_counts[['year','month','day']])\n",
    "    monthly_reviews_counts['mjd'] = monthly_reviews_counts.apply(lambda monthly_reviews_counts: date_to_mjd(monthly_reviews_counts['year'], monthly_reviews_counts['month'], monthly_reviews_counts['day']), axis=1)\n",
    "    x_training = monthly_reviews_counts['mjd'].values.reshape(-1, 1)\n",
    "    x_training_scaled = preprocessing.scale(x_training)\n",
    "    scaler = preprocessing.StandardScaler().fit(x_training)\n",
    "    print(scaler.mean_)\n",
    "    print(scaler.scale_)\n",
    "    get_poly = PolynomialFeatures(poly_degree)\n",
    "    x_training_poly = get_poly.fit_transform(x_training_scaled)\n",
    "    print(x_training_poly)\n",
    "    y_training = monthly_reviews_counts['counts'].values.reshape(-1, 1)\n",
    "    model = Ridge(alpha=ridge_alpha)\n",
    "    model.fit(x_training_poly, y_training) \n",
    "    print(model.intercept_)\n",
    "    print(model.coef_)\n",
    "    y_modeled = model.predict(x_training_poly)\n",
    "    y_modeled_tolist = []\n",
    "    for sublist in y_modeled:\n",
    "    for item in sublist:\n",
    "        y_modeled_tolist.append(item)\n",
    "    mse = mean_squared_error(y_training, y_modeled)\n",
    "    print('MSE:{}'.format(mse))\n",
    "    prediction_time = monthly_reviews_counts[['year', 'month', 'day']]\n",
    "    prediction_time_add_3_months = add_3_months(prediction_time)\n",
    "    feature_to_be_feeded = prediction_time_add_3_months['mjd'].values.reshape(-1, 1)\n",
    "    input_feature_array_scaled = scale_features(feature_to_be_feeded, scaler.mean_, scaler.scale_)\n",
    "    input_feature_array_poly = get_poly.fit_transform(input_feature_array_scaled)\n",
    "    output_predicted = model.predict(input_feature_array_poly)\n",
    "    output_predicted_tolist = []\n",
    "    for sublist in output_predicted:\n",
    "        for item in sublist:\n",
    "            output_predicted_tolist.append(item)\n",
    "    sales_prediction = pygal.Line(x_label_rotation=20, show_legend=False,dynamic_print_values=True, style=DarkSolarizedStyle(\n",
    "                  value_font_family='googlefont:Raleway',\n",
    "                  value_font_size=30,\n",
    "                  value_colors=('white',)))\n",
    "    sales_prediction.x_labels = map(lambda d: d.strftime('%Y-%m-%d'), monthly_reviews_counts['date'].tolist())\n",
    "    sales_prediction.title = 'Monthly Sales Prediction Using Polynomial Regression'\n",
    "    sales_prediction.add(\"Sales\", y_modeled)\n",
    "    return HTML(html_pygal.format(pygal_render=sales_prediction.render(is_unicode=True)))\n",
    "predict_poly_model(reviews_df, poly_degree, ridge_alpha)"
   ]
  },
  {
   "cell_type": "code",
   "execution_count": null,
   "metadata": {},
   "outputs": [],
   "source": []
  }
 ],
 "metadata": {
  "kernelspec": {
   "display_name": "web_scraping_v1",
   "language": "python",
   "name": "web_scraping_v1"
  },
  "language_info": {
   "codemirror_mode": {
    "name": "ipython",
    "version": 3
   },
   "file_extension": ".py",
   "mimetype": "text/x-python",
   "name": "python",
   "nbconvert_exporter": "python",
   "pygments_lexer": "ipython3",
   "version": "3.6.6"
  }
 },
 "nbformat": 4,
 "nbformat_minor": 2
}
